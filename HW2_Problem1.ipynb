{
  "nbformat": 4,
  "nbformat_minor": 0,
  "metadata": {
    "colab": {
      "name": "HW2-Problem1.ipynb",
      "provenance": [],
      "collapsed_sections": [
        "Ldf8NUeVZ65z",
        "j4i7GfiUamVB",
        "ZpHgMydDaKDN",
        "YNKq0C9daRSZ",
        "OlBoZEJ0aUE0",
        "TPIhHXaKpJSK",
        "Ij_N_F5cpO2Y",
        "rpTkOBIiHjsT",
        "O5xJi8Cfq44b",
        "guc6qnrfq82k",
        "YIuWae9IvQii",
        "vq0wATOxeXLX",
        "9JtWlnh_e6IC",
        "HLnNPW-vfBqB",
        "gEInImV6fFnb"
      ],
      "include_colab_link": true
    },
    "kernelspec": {
      "name": "python3",
      "display_name": "Python 3"
    }
  },
  "cells": [
    {
      "cell_type": "markdown",
      "metadata": {
        "id": "view-in-github",
        "colab_type": "text"
      },
      "source": [
        "<a href=\"https://colab.research.google.com/github/jgracie52/CAP4630/blob/master/HW2_Problem1.ipynb\" target=\"_parent\"><img src=\"https://colab.research.google.com/assets/colab-badge.svg\" alt=\"Open In Colab\"/></a>"
      ]
    },
    {
      "cell_type": "markdown",
      "metadata": {
        "id": "Ldf8NUeVZ65z",
        "colab_type": "text"
      },
      "source": [
        "##Load MNIST"
      ]
    },
    {
      "cell_type": "code",
      "metadata": {
        "id": "DeRvX95MZBYF",
        "colab_type": "code",
        "outputId": "66888eb4-6eef-49ae-e203-b9f0281c814b",
        "colab": {
          "base_uri": "https://localhost:8080/",
          "height": 116
        }
      },
      "source": [
        "from keras.datasets import mnist\n",
        "import matplotlib.pyplot as plt\n",
        "import numpy as np\n",
        "\n",
        "(train_images_original, train_labels_original), (test_images_original, test_labels_original) = mnist.load_data()"
      ],
      "execution_count": 0,
      "outputs": [
        {
          "output_type": "stream",
          "text": [
            "Using TensorFlow backend.\n"
          ],
          "name": "stderr"
        },
        {
          "output_type": "display_data",
          "data": {
            "text/html": [
              "<p style=\"color: red;\">\n",
              "The default version of TensorFlow in Colab will soon switch to TensorFlow 2.x.<br>\n",
              "We recommend you <a href=\"https://www.tensorflow.org/guide/migrate\" target=\"_blank\">upgrade</a> now \n",
              "or ensure your notebook will continue to use TensorFlow 1.x via the <code>%tensorflow_version 1.x</code> magic:\n",
              "<a href=\"https://colab.research.google.com/notebooks/tensorflow_version.ipynb\" target=\"_blank\">more info</a>.</p>\n"
            ],
            "text/plain": [
              "<IPython.core.display.HTML object>"
            ]
          },
          "metadata": {
            "tags": []
          }
        },
        {
          "output_type": "stream",
          "text": [
            "Downloading data from https://s3.amazonaws.com/img-datasets/mnist.npz\n",
            "11493376/11490434 [==============================] - 0s 0us/step\n"
          ],
          "name": "stdout"
        }
      ]
    },
    {
      "cell_type": "markdown",
      "metadata": {
        "id": "j4i7GfiUamVB",
        "colab_type": "text"
      },
      "source": [
        "###Prepare Image Data"
      ]
    },
    {
      "cell_type": "code",
      "metadata": {
        "id": "L7_ytMo1aojQ",
        "colab_type": "code",
        "colab": {}
      },
      "source": [
        "train_images = train_images_original.reshape((60000, 28 * 28))\n",
        "train_images = train_images.astype('float32') / 255\n",
        "\n",
        "test_images = test_images_original.reshape((10000, 28 * 28))\n",
        "test_images = test_images.astype('float32') / 255"
      ],
      "execution_count": 0,
      "outputs": []
    },
    {
      "cell_type": "markdown",
      "metadata": {
        "id": "ZpHgMydDaKDN",
        "colab_type": "text"
      },
      "source": [
        "###Prepare the Labels"
      ]
    },
    {
      "cell_type": "code",
      "metadata": {
        "id": "2HwFF6zxaL5w",
        "colab_type": "code",
        "colab": {}
      },
      "source": [
        "from keras.utils import to_categorical\n",
        "\n",
        "train_labels = to_categorical(train_labels_original)\n",
        "test_labels = to_categorical(test_labels_original)"
      ],
      "execution_count": 0,
      "outputs": []
    },
    {
      "cell_type": "markdown",
      "metadata": {
        "id": "YNKq0C9daRSZ",
        "colab_type": "text"
      },
      "source": [
        "###Prepare Handcrafted Features"
      ]
    },
    {
      "cell_type": "markdown",
      "metadata": {
        "id": "OlBoZEJ0aUE0",
        "colab_type": "text"
      },
      "source": [
        "####Height/Width of Digit\n",
        "\n"
      ]
    },
    {
      "cell_type": "code",
      "metadata": {
        "id": "Mav0hR8hWUAi",
        "colab_type": "code",
        "colab": {}
      },
      "source": [
        "def findWidth(image):\n",
        "  #find width\n",
        "  flatten = image.flatten()\n",
        "  flatten = flatten.astype('float32') / 255\n",
        "  reverse_flatten = flatten[::-1]\n",
        "  above_thresh = flatten > 0\n",
        "  above_thresh_reverse = reverse_flatten > 0\n",
        "  left = np.argmax(above_thresh)\n",
        "  right = np.argmax(above_thresh_reverse)\n",
        "  right = 784 - right\n",
        "  left_tup = np.unravel_index(left, (28,28))\n",
        "  right_tup = np.unravel_index(right, (28,28))\n",
        "  width = right_tup[0] - left_tup[0]\n",
        "  return width;\n",
        "\n",
        "def findHeight(image):\n",
        "  #find height\n",
        "  flatten = image.flatten();\n",
        "  reverse_flatten = flatten[::-1]\n",
        "  above_thresh = flatten > 0\n",
        "  above_thresh_reverse = reverse_flatten > 0\n",
        "  top = np.argmax(above_thresh);\n",
        "  bottom = np.argmax(above_thresh_reverse)\n",
        "  #bottom of image must be subtracted due to reversal of flattened array\n",
        "  bottom = 784 - bottom\n",
        "  top_tup = np.unravel_index(top, (28,28))\n",
        "  bottom_tup = np.unravel_index(bottom, (28,28))\n",
        "  height = bottom_tup[0] - top_tup[0]\n",
        "  return height;"
      ],
      "execution_count": 0,
      "outputs": []
    },
    {
      "cell_type": "markdown",
      "metadata": {
        "id": "TPIhHXaKpJSK",
        "colab_type": "text"
      },
      "source": [
        "####train_images"
      ]
    },
    {
      "cell_type": "code",
      "metadata": {
        "id": "3WBSmWclb_HZ",
        "colab_type": "code",
        "colab": {}
      },
      "source": [
        "train_matrix = np.zeros(shape=(60000,5))\n",
        "rotated_train = np.rot90(train_images_original,axes=(2,1))\n",
        "for i in range(len(train_images)):\n",
        "  height = findHeight(train_images[i])\n",
        "  train_matrix[i][0] = height/28\n",
        "\n",
        "  width = findWidth(rotated_train[i])\n",
        "  train_matrix[i][1] = width/28"
      ],
      "execution_count": 0,
      "outputs": []
    },
    {
      "cell_type": "markdown",
      "metadata": {
        "id": "Ij_N_F5cpO2Y",
        "colab_type": "text"
      },
      "source": [
        "####test_images"
      ]
    },
    {
      "cell_type": "code",
      "metadata": {
        "id": "L_AV2hU2pQbe",
        "colab_type": "code",
        "colab": {}
      },
      "source": [
        "test_matrix = np.zeros(shape=(10000,5))\n",
        "rotated_test = np.rot90(test_images_original,axes=(2,1))\n",
        "for i in range(len(test_images)):\n",
        "  height = findHeight(test_images[i])\n",
        "  test_matrix[i][0] = height/28\n",
        "\n",
        "  width = findWidth(rotated_test[i])\n",
        "  test_matrix[i][1] = width/28"
      ],
      "execution_count": 0,
      "outputs": []
    },
    {
      "cell_type": "markdown",
      "metadata": {
        "id": "rpTkOBIiHjsT",
        "colab_type": "text"
      },
      "source": [
        "####Find Number of White Regions"
      ]
    },
    {
      "cell_type": "code",
      "metadata": {
        "id": "2V5L2TYeHqdq",
        "colab_type": "code",
        "colab": {}
      },
      "source": [
        "def setVisited(image):\n",
        "  visited = np.zeros((28*28),dtype='bool')\n",
        "  img_indices = np.nonzero(image > 0.5)\n",
        "  for i in range(len(img_indices)):\n",
        "    visited[img_indices[i]] = True\n",
        "  return visited\n",
        "\n",
        "def DFS(visited, i, j):\n",
        "  if(i < 0 or i >= len(visited) or j < 0 or j >= len(visited[i]) or visited[i][j]):\n",
        "    return 0;\n",
        "  \n",
        "  visited[i][j] = True\n",
        "  DFS(visited, i + 1, j)\n",
        "  DFS(visited, i - 1, j)\n",
        "  DFS(visited, i, j + 1)\n",
        "  DFS(visited, i, j - 1)\n",
        "  return 1;\n",
        "\n",
        "def determineWhiteSpace(image):\n",
        "  visited = setVisited(image)\n",
        "  visited = visited.reshape(28,28)\n",
        "  count = 0\n",
        "  for i in range(28):\n",
        "    for j in range(28):\n",
        "      if(not visited[i][j]):\n",
        "        count += DFS(visited, i, j)    \n",
        "  return count;\n"
      ],
      "execution_count": 0,
      "outputs": []
    },
    {
      "cell_type": "markdown",
      "metadata": {
        "id": "O5xJi8Cfq44b",
        "colab_type": "text"
      },
      "source": [
        "####train_images"
      ]
    },
    {
      "cell_type": "code",
      "metadata": {
        "id": "9gKNFl-fq69o",
        "colab_type": "code",
        "outputId": "58173ddc-98a4-46c0-c139-f519c16eb4d1",
        "colab": {
          "base_uri": "https://localhost:8080/",
          "height": 34
        }
      },
      "source": [
        "#Find white spaces for train_images\n",
        "for i in range(len(train_images)):\n",
        "  num = determineWhiteSpace(train_images[i]);\n",
        "  if(num == 1):\n",
        "    train_matrix[i][2] = 1\n",
        "  elif(num == 2):\n",
        "    train_matrix[i][3] = 1\n",
        "  elif(num == 3):\n",
        "    train_matrix[i][4] = 1"
      ],
      "execution_count": 0,
      "outputs": [
        {
          "output_type": "execute_result",
          "data": {
            "text/plain": [
              "3"
            ]
          },
          "metadata": {
            "tags": []
          },
          "execution_count": 32
        }
      ]
    },
    {
      "cell_type": "markdown",
      "metadata": {
        "id": "guc6qnrfq82k",
        "colab_type": "text"
      },
      "source": [
        "####test_images"
      ]
    },
    {
      "cell_type": "code",
      "metadata": {
        "id": "UkRAwslCq_Ge",
        "colab_type": "code",
        "colab": {}
      },
      "source": [
        "#Find white spaces for test_images\n",
        "for i in range(len(test_images)):\n",
        "  num = determineWhiteSpace(test_images[i]);\n",
        "  if(num == 1):\n",
        "    test_matrix[i][2] = 1\n",
        "  elif(num == 2):\n",
        "    test_matrix[i][3] = 1\n",
        "  elif(num == 3):\n",
        "    test_matrix[i][4] = 1"
      ],
      "execution_count": 0,
      "outputs": []
    },
    {
      "cell_type": "markdown",
      "metadata": {
        "id": "YIuWae9IvQii",
        "colab_type": "text"
      },
      "source": [
        "###Concatenate"
      ]
    },
    {
      "cell_type": "code",
      "metadata": {
        "id": "gg6YSTMMxQ9d",
        "colab_type": "code",
        "colab": {}
      },
      "source": [
        "train_final = np.column_stack((train_images,train_matrix))"
      ],
      "execution_count": 0,
      "outputs": []
    },
    {
      "cell_type": "code",
      "metadata": {
        "id": "9SejlBbavSWV",
        "colab_type": "code",
        "colab": {}
      },
      "source": [
        "test_final = np.column_stack((test_images,test_matrix))"
      ],
      "execution_count": 0,
      "outputs": []
    },
    {
      "cell_type": "markdown",
      "metadata": {
        "id": "vq0wATOxeXLX",
        "colab_type": "text"
      },
      "source": [
        "##Setup/Train Network"
      ]
    },
    {
      "cell_type": "code",
      "metadata": {
        "id": "HpsF6MIoercm",
        "colab_type": "code",
        "outputId": "a2d89343-e16a-4aaf-b00e-5562d9934018",
        "colab": {
          "base_uri": "https://localhost:8080/",
          "height": 459
        }
      },
      "source": [
        "import tensorflow as tf\n",
        "from tensorflow import keras\n",
        "\n",
        "model = keras.Sequential([\n",
        "    keras.layers.Dense(512, activation=tf.nn.elu),\n",
        "    keras.layers.Dense(10, activation=tf.nn.softmax)\n",
        "])\n",
        "\n",
        "# compile the model\n",
        "\n",
        "model.compile(optimizer='adam',\n",
        "             loss='categorical_crossentropy',\n",
        "             metrics=['accuracy'])\n",
        "\n",
        "# train the model\n",
        "epochs = 10\n",
        "history = model.fit(train_final, \n",
        "                      train_labels, \n",
        "                      epochs=epochs,  \n",
        "                      batch_size=128,\n",
        "                      validation_data=(test_final, test_labels))"
      ],
      "execution_count": 0,
      "outputs": [
        {
          "output_type": "stream",
          "text": [
            "WARNING:tensorflow:From /usr/local/lib/python3.6/dist-packages/tensorflow_core/python/ops/resource_variable_ops.py:1630: calling BaseResourceVariable.__init__ (from tensorflow.python.ops.resource_variable_ops) with constraint is deprecated and will be removed in a future version.\n",
            "Instructions for updating:\n",
            "If using Keras pass *_constraint arguments to layers.\n",
            "Train on 60000 samples, validate on 10000 samples\n",
            "Epoch 1/10\n",
            "60000/60000 [==============================] - 4s 73us/sample - loss: 0.2822 - acc: 0.9178 - val_loss: 0.1920 - val_acc: 0.9439\n",
            "Epoch 2/10\n",
            "60000/60000 [==============================] - 4s 65us/sample - loss: 0.1568 - acc: 0.9534 - val_loss: 0.1324 - val_acc: 0.9617\n",
            "Epoch 3/10\n",
            "60000/60000 [==============================] - 4s 67us/sample - loss: 0.1096 - acc: 0.9666 - val_loss: 0.1018 - val_acc: 0.9690\n",
            "Epoch 4/10\n",
            "60000/60000 [==============================] - 4s 66us/sample - loss: 0.0828 - acc: 0.9740 - val_loss: 0.0859 - val_acc: 0.9733\n",
            "Epoch 5/10\n",
            "60000/60000 [==============================] - 4s 66us/sample - loss: 0.0643 - acc: 0.9803 - val_loss: 0.0732 - val_acc: 0.9767\n",
            "Epoch 6/10\n",
            "60000/60000 [==============================] - 4s 70us/sample - loss: 0.0523 - acc: 0.9830 - val_loss: 0.0718 - val_acc: 0.9774\n",
            "Epoch 7/10\n",
            "60000/60000 [==============================] - 4s 70us/sample - loss: 0.0414 - acc: 0.9869 - val_loss: 0.0661 - val_acc: 0.9786\n",
            "Epoch 8/10\n",
            "60000/60000 [==============================] - 4s 67us/sample - loss: 0.0339 - acc: 0.9896 - val_loss: 0.0682 - val_acc: 0.9801\n",
            "Epoch 9/10\n",
            "60000/60000 [==============================] - 4s 66us/sample - loss: 0.0274 - acc: 0.9912 - val_loss: 0.0683 - val_acc: 0.9793\n",
            "Epoch 10/10\n",
            "60000/60000 [==============================] - 4s 66us/sample - loss: 0.0226 - acc: 0.9930 - val_loss: 0.0829 - val_acc: 0.9768\n"
          ],
          "name": "stdout"
        }
      ]
    },
    {
      "cell_type": "markdown",
      "metadata": {
        "id": "9JtWlnh_e6IC",
        "colab_type": "text"
      },
      "source": [
        "##Accuracy and Loss"
      ]
    },
    {
      "cell_type": "code",
      "metadata": {
        "id": "1Ql-V_0He-Fb",
        "colab_type": "code",
        "colab": {}
      },
      "source": [
        "history_dict = history.history\n",
        "loss_values = history_dict['loss']\n",
        "test_loss_values = history_dict['val_loss']\n",
        "epochs_range = range(1, epochs+1)"
      ],
      "execution_count": 0,
      "outputs": []
    },
    {
      "cell_type": "markdown",
      "metadata": {
        "id": "HLnNPW-vfBqB",
        "colab_type": "text"
      },
      "source": [
        "###Loss"
      ]
    },
    {
      "cell_type": "code",
      "metadata": {
        "id": "P_FzAFBVfAu3",
        "colab_type": "code",
        "outputId": "c9d7f158-689e-4789-deb6-cd9619f9af61",
        "colab": {
          "base_uri": "https://localhost:8080/",
          "height": 295
        }
      },
      "source": [
        "plt.plot(epochs_range, loss_values, 'bo', label='Training loss')\n",
        "plt.plot(epochs_range, test_loss_values, 'ro', label='Test loss')\n",
        "plt.title('Training and test loss')\n",
        "plt.xlabel('Epochs')\n",
        "plt.ylabel('Loss')\n",
        "plt.legend()\n",
        "plt.show()"
      ],
      "execution_count": 0,
      "outputs": [
        {
          "output_type": "display_data",
          "data": {
            "image/png": "[encoded data removed]",
            "text/plain": [
              "<Figure size 432x288 with 1 Axes>"
            ]
          },
          "metadata": {
            "tags": []
          }
        }
      ]
    },
    {
      "cell_type": "markdown",
      "metadata": {
        "id": "gEInImV6fFnb",
        "colab_type": "text"
      },
      "source": [
        "###Accuracy"
      ]
    },
    {
      "cell_type": "code",
      "metadata": {
        "id": "ocYh9gdsfGP1",
        "colab_type": "code",
        "colab": {}
      },
      "source": [
        "acc_values = history_dict['acc']\n",
        "test_acc_values = history_dict['val_acc']"
      ],
      "execution_count": 0,
      "outputs": []
    },
    {
      "cell_type": "code",
      "metadata": {
        "id": "wuL-0GWofMUG",
        "colab_type": "code",
        "outputId": "a70e22f1-d2a5-4c99-d6c1-6f31f3b9ab99",
        "colab": {
          "base_uri": "https://localhost:8080/",
          "height": 295
        }
      },
      "source": [
        "plt.plot(epochs_range, acc_values, 'bo', label='Training accuracy')\n",
        "plt.plot(epochs_range, test_acc_values, 'ro', label='Test accuracy')\n",
        "plt.title('Training and test accuracy')\n",
        "plt.xlabel('Epochs')\n",
        "plt.ylabel('Accuracy')\n",
        "plt.legend()\n",
        "plt.show()"
      ],
      "execution_count": 0,
      "outputs": [
        {
          "output_type": "display_data",
          "data": {
            "image/png": "[encoded data removed]",
            "text/plain": [
              "<Figure size 432x288 with 1 Axes>"
            ]
          },
          "metadata": {
            "tags": []
          }
        }
      ]
    }
  ]
}