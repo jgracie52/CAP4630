{
  "nbformat": 4,
  "nbformat_minor": 0,
  "metadata": {
    "colab": {
      "name": "HW4.ipynb",
      "provenance": [],
      "collapsed_sections": [
        "GHtpBbkt-IIv",
        "xACNT3zS-ToA",
        "kE_bdajAxH3P",
        "TrEQHv18xLHn",
        "CBKRBLMW0dj6",
        "yh5M-aNr2e9n",
        "pYhIrWHm9mxB",
        "hO_iPJr1Et38",
        "5w1CLVGpHKaN",
        "0mCRmL9cHH7E",
        "2vpQILtsHFWO",
        "0-yKN5d5nCX8",
        "C8-Inf6_HB3-",
        "fF2KP-QEG9ic",
        "gQxStzs4G6SN",
        "Ly77Q5j_tWcp",
        "ut0lkZMAGtIf",
        "GnZgfGfuGwsK",
        "irYGlmhgGzCu",
        "bf_5_WgY9kLd"
      ],
      "include_colab_link": true
    },
    "kernelspec": {
      "name": "python3",
      "display_name": "Python 3"
    },
    "accelerator": "GPU"
  },
  "cells": [
    {
      "cell_type": "markdown",
      "metadata": {
        "id": "view-in-github",
        "colab_type": "text"
      },
      "source": [
        "<a href=\"https://colab.research.google.com/github/jgracie52/CAP4630/blob/master/HW4.ipynb\" target=\"_parent\"><img src=\"https://colab.research.google.com/assets/colab-badge.svg\" alt=\"Open In Colab\"/></a>"
      ]
    },
    {
      "cell_type": "markdown",
      "metadata": {
        "id": "GHtpBbkt-IIv",
        "colab_type": "text"
      },
      "source": [
        "#Code Prep"
      ]
    },
    {
      "cell_type": "code",
      "metadata": {
        "id": "kKvuSLGf-LJy",
        "colab_type": "code",
        "colab": {
          "base_uri": "https://localhost:8080/",
          "height": 116
        },
        "outputId": "04227f2e-f9d3-4dbc-b9d8-154e43ecd178"
      },
      "source": [
        "import tensorflow as tf\n",
        "from tensorflow import keras\n",
        "import matplotlib.pyplot as plt\n",
        "import numpy as np\n",
        "from keras.datasets import cifar10\n",
        "\n",
        "(train_images, train_labels), (test_images, test_labels) = cifar10.load_data()"
      ],
      "execution_count": 3,
      "outputs": [
        {
          "output_type": "display_data",
          "data": {
            "text/html": [
              "<p style=\"color: red;\">\n",
              "The default version of TensorFlow in Colab will soon switch to TensorFlow 2.x.<br>\n",
              "We recommend you <a href=\"https://www.tensorflow.org/guide/migrate\" target=\"_blank\">upgrade</a> now \n",
              "or ensure your notebook will continue to use TensorFlow 1.x via the <code>%tensorflow_version 1.x</code> magic:\n",
              "<a href=\"https://colab.research.google.com/notebooks/tensorflow_version.ipynb\" target=\"_blank\">more info</a>.</p>\n"
            ],
            "text/plain": [
              "<IPython.core.display.HTML object>"
            ]
          },
          "metadata": {
            "tags": []
          }
        },
        {
          "output_type": "stream",
          "text": [
            "Using TensorFlow backend.\n"
          ],
          "name": "stderr"
        },
        {
          "output_type": "stream",
          "text": [
            "Downloading data from https://www.cs.toronto.edu/~kriz/cifar-10-python.tar.gz\n",
            "170500096/170498071 [==============================] - 4s 0us/step\n"
          ],
          "name": "stdout"
        }
      ]
    },
    {
      "cell_type": "markdown",
      "metadata": {
        "id": "xACNT3zS-ToA",
        "colab_type": "text"
      },
      "source": [
        "##Preprocess dataset"
      ]
    },
    {
      "cell_type": "code",
      "metadata": {
        "id": "8nRIZUkF-ViC",
        "colab_type": "code",
        "colab": {}
      },
      "source": [
        "train_images = train_images.reshape((50000, 32, 32, 3)) /255.0\n",
        "test_images = test_images.reshape((10000, 32, 32, 3)) /255.0"
      ],
      "execution_count": 0,
      "outputs": []
    },
    {
      "cell_type": "markdown",
      "metadata": {
        "id": "kE_bdajAxH3P",
        "colab_type": "text"
      },
      "source": [
        "#General Concepts"
      ]
    },
    {
      "cell_type": "markdown",
      "metadata": {
        "id": "TrEQHv18xLHn",
        "colab_type": "text"
      },
      "source": [
        "##Artificial Intelligence"
      ]
    },
    {
      "cell_type": "markdown",
      "metadata": {
        "id": "TLiFgBaLya6I",
        "colab_type": "text"
      },
      "source": [
        "Artificial intelligence is a branch of computer science that focuses on creating \"intelligent\" systems. What that means depends on the task it is being built for. Some scientists build systems to think as humans do (\"strong\" AI), others look to build systems that don't think as humans do, but can operate with minimal human interaction for useful tasks (\"weak\" AI).\n",
        "Overall the goal of AI is to use human intelligence as a model for algorithms, though not necessarily the end goal."
      ]
    },
    {
      "cell_type": "markdown",
      "metadata": {
        "id": "CBKRBLMW0dj6",
        "colab_type": "text"
      },
      "source": [
        "##Machine Learning and Deep Learning"
      ]
    },
    {
      "cell_type": "markdown",
      "metadata": {
        "id": "IQ8yybsd0hqR",
        "colab_type": "text"
      },
      "source": [
        "Machine learning is a specific branch of AI that deals with creating systems that automatically \"learn\" and improve without being hardcoded.\n",
        "Some branches of Machine learning include: Supervised learning, unsupervised learning, and reinforcement learning\n",
        "Deep learning is a section of machine learning that is built around \"Deep\" neural networks. The idea is build a model that include many layers of interconnected neurons to get an accurate prediction of the chosen data. \n",
        "Deep learning can be supervised, unsupervised or semi-supervised, and has many forms including Convolutional Neural Networks (CNNs), Recurrent Neural Networks (RNNs), and Long Short Term Memory (LSTMs)"
      ]
    },
    {
      "cell_type": "markdown",
      "metadata": {
        "id": "yh5M-aNr2e9n",
        "colab_type": "text"
      },
      "source": [
        "#Building a Model"
      ]
    },
    {
      "cell_type": "markdown",
      "metadata": {
        "id": "B9TRbhAq2jG8",
        "colab_type": "text"
      },
      "source": [
        "Every Deep Learning Algorithm has a unique set of components that allow it to do learn in different ways. For instance, in a convolutional network, there is an input tensor that of size [number of images] X [image height] X [image width] X [image depth]. The convent also includes a kernal whose width and height are hyperparameters of the model (parameters that can be changed to improve accuracy).\n",
        "<br><br>Each layer of the convnet convolves the input and then passes it to the next layer. Some CNNs will use pooling to reduce the dimensions of the data thereby streamlining the computation.\n",
        "<br><br>Each layer is built from neurons that have weights attached to them. The layers are vectors of weights and a bias term similar to statistical regression. The vectors in a CNN are called filters and represent features of the input. In a CNN several neurons can share the same filter.\n",
        "\n",
        "Example of a CNN built with Keras:"
      ]
    },
    {
      "cell_type": "code",
      "metadata": {
        "id": "vhRUc4Mc-FOF",
        "colab_type": "code",
        "colab": {
          "base_uri": "https://localhost:8080/",
          "height": 334
        },
        "outputId": "2775a4f4-a677-499e-f06b-33afe587f0ca"
      },
      "source": [
        "# set up the layers\n",
        "\n",
        "model = keras.Sequential([\n",
        "    keras.layers.Conv2D(32, (3, 3), activation='relu', input_shape=(32, 32, 3)), #convolutional layer\n",
        "    keras.layers.MaxPooling2D((2, 2)), #pooling to reduce dimensions\n",
        "    #\n",
        "    keras.layers.Flatten(),\n",
        "    keras.layers.Dense(32, activation='relu'), #dense layer\n",
        "    keras.layers.Dense(10, activation='softmax')\n",
        "])\n",
        "model.summary()\n",
        "\n",
        "model.compile(optimizer='adam', #optimizer\n",
        "             loss='sparse_categorical_crossentropy', #loss function\n",
        "             metrics=['accuracy'])"
      ],
      "execution_count": 28,
      "outputs": [
        {
          "output_type": "stream",
          "text": [
            "Model: \"sequential_7\"\n",
            "_________________________________________________________________\n",
            "Layer (type)                 Output Shape              Param #   \n",
            "=================================================================\n",
            "conv2d_7 (Conv2D)            (None, 30, 30, 32)        896       \n",
            "_________________________________________________________________\n",
            "max_pooling2d_7 (MaxPooling2 (None, 15, 15, 32)        0         \n",
            "_________________________________________________________________\n",
            "flatten_7 (Flatten)          (None, 7200)              0         \n",
            "_________________________________________________________________\n",
            "dense_14 (Dense)             (None, 32)                230432    \n",
            "_________________________________________________________________\n",
            "dense_15 (Dense)             (None, 10)                330       \n",
            "=================================================================\n",
            "Total params: 231,658\n",
            "Trainable params: 231,658\n",
            "Non-trainable params: 0\n",
            "_________________________________________________________________\n"
          ],
          "name": "stdout"
        }
      ]
    },
    {
      "cell_type": "markdown",
      "metadata": {
        "id": "pYhIrWHm9mxB",
        "colab_type": "text"
      },
      "source": [
        "#Comping a Model"
      ]
    },
    {
      "cell_type": "markdown",
      "metadata": {
        "id": "GQyvUlqb9oVd",
        "colab_type": "text"
      },
      "source": [
        "With deep learning, you can imrove the accuracy of a model by changing a few hyperperameters, such as optimizers, learning rate, activation functions, batch size, number of epochs, etc.\n",
        "<br><br>Optimizers are algorithms/methods that help change the attributes of a neural network in order to reduce losses. Some optimizers include Gradient Descent, Stochastic Gradient Descent, and Adam (Adaptive Moment Estimation)\n",
        "<br><br>The Learning Rate controls how much the weights of neurons change with respect to a neural network. The lower the learning rate, the slower the model travels down the slope (the slower it learns). The higher the learning rate the faster the model travels down the slope.\n",
        "<br><br>Activation functions allow for a network to have non-linear properties by activating or deactivating a neuron based on a certain threshold. Allowing for non-linearity gives the network the ability to understand more complex data (since not all data will have linear relationships). Some activation functions include Sigmoid, tanh, and ReLu (Rectified Linear Units).\n",
        "<br><br>The Batch Size is the number of training examples per iteration. Increasing this value will increase the number of examples, but will also decrease performance due to higher computation.\n",
        "<br><br>An Epoch is when an entire dataset is passed forward and backward through a network ONCE. The number of Epochs determines how many times this happens. Increasing the amount of epochs allows the model to train on the data more and more, however there comes a point where it trains on the training data to the point that it memorizes it and doesn't learn how to predict other similar data not in the training set.\n",
        "<br><br>Putting these all together allows us to create more accurate models by better fitting the model to the data.\n",
        "\n",
        "An example of different hyper parameters:"
      ]
    },
    {
      "cell_type": "code",
      "metadata": {
        "id": "1Nlx--F2C9s8",
        "colab_type": "code",
        "colab": {}
      },
      "source": [
        "#hyper parameters\n",
        "epochs = 10\n",
        "keras.optimizers.Adam(learning_rate=0.0001, beta_1=0.9, beta_2=0.999, amsgrad=False) #changing learning rate for Adam optimizer\n",
        "batch = 64 "
      ],
      "execution_count": 0,
      "outputs": []
    },
    {
      "cell_type": "markdown",
      "metadata": {
        "id": "hO_iPJr1Et38",
        "colab_type": "text"
      },
      "source": [
        "#Training a Model"
      ]
    },
    {
      "cell_type": "markdown",
      "metadata": {
        "id": "CybJL0u_ExUB",
        "colab_type": "text"
      },
      "source": [
        "An example of training a model using the CIFAR10 dataset"
      ]
    },
    {
      "cell_type": "markdown",
      "metadata": {
        "id": "5w1CLVGpHKaN",
        "colab_type": "text"
      },
      "source": [
        "###Training the Model\n",
        "####(from above code cells)"
      ]
    },
    {
      "cell_type": "code",
      "metadata": {
        "id": "31TZw7FmE27T",
        "colab_type": "code",
        "colab": {
          "base_uri": "https://localhost:8080/",
          "height": 386
        },
        "outputId": "19b9aa6d-be14-451a-fcb6-1ee676d6b86b"
      },
      "source": [
        "history = model.fit(train_images, \n",
        "                      train_labels, \n",
        "                      batch_size = batch,\n",
        "                      epochs=epochs,  \n",
        "                      validation_data=(test_images, test_labels))"
      ],
      "execution_count": 30,
      "outputs": [
        {
          "output_type": "stream",
          "text": [
            "Train on 50000 samples, validate on 10000 samples\n",
            "Epoch 1/10\n",
            "50000/50000 [==============================] - 32s 635us/sample - loss: 1.5508 - acc: 0.4474 - val_loss: 1.3245 - val_acc: 0.5329\n",
            "Epoch 2/10\n",
            "50000/50000 [==============================] - 31s 622us/sample - loss: 1.2513 - acc: 0.5610 - val_loss: 1.2189 - val_acc: 0.5699\n",
            "Epoch 3/10\n",
            "50000/50000 [==============================] - 31s 620us/sample - loss: 1.1474 - acc: 0.5991 - val_loss: 1.1566 - val_acc: 0.5943\n",
            "Epoch 4/10\n",
            "50000/50000 [==============================] - 31s 617us/sample - loss: 1.0693 - acc: 0.6276 - val_loss: 1.1320 - val_acc: 0.5993\n",
            "Epoch 5/10\n",
            "50000/50000 [==============================] - 31s 619us/sample - loss: 1.0168 - acc: 0.6450 - val_loss: 1.1537 - val_acc: 0.5968\n",
            "Epoch 6/10\n",
            "50000/50000 [==============================] - 31s 621us/sample - loss: 0.9725 - acc: 0.6623 - val_loss: 1.0701 - val_acc: 0.6282\n",
            "Epoch 7/10\n",
            "50000/50000 [==============================] - 32s 632us/sample - loss: 0.9274 - acc: 0.6779 - val_loss: 1.0678 - val_acc: 0.6244\n",
            "Epoch 8/10\n",
            "50000/50000 [==============================] - 31s 619us/sample - loss: 0.8943 - acc: 0.6884 - val_loss: 1.0488 - val_acc: 0.6332\n",
            "Epoch 9/10\n",
            "50000/50000 [==============================] - 31s 619us/sample - loss: 0.8615 - acc: 0.7012 - val_loss: 1.0379 - val_acc: 0.6422\n",
            "Epoch 10/10\n",
            "50000/50000 [==============================] - 31s 613us/sample - loss: 0.8355 - acc: 0.7089 - val_loss: 1.0627 - val_acc: 0.6361\n"
          ],
          "name": "stdout"
        }
      ]
    },
    {
      "cell_type": "markdown",
      "metadata": {
        "id": "0mCRmL9cHH7E",
        "colab_type": "text"
      },
      "source": [
        "###Loss"
      ]
    },
    {
      "cell_type": "code",
      "metadata": {
        "id": "-vYDo1XLGh0B",
        "colab_type": "code",
        "colab": {
          "base_uri": "https://localhost:8080/",
          "height": 295
        },
        "outputId": "fbb3d160-4ff0-45ca-f255-c1f112cb3115"
      },
      "source": [
        "history_dict = history.history\n",
        "loss_values = history_dict['loss']\n",
        "test_loss_values = history_dict['val_loss']\n",
        "epochs_range = range(1, epochs+1)\n",
        "\n",
        "plt.plot(epochs_range, loss_values, 'bo', label='Training loss')\n",
        "plt.plot(epochs_range, test_loss_values, 'ro', label='Test loss')\n",
        "plt.title('Training and test loss')\n",
        "plt.xlabel('Epochs')\n",
        "plt.ylabel('Loss')\n",
        "plt.legend()\n",
        "plt.show()"
      ],
      "execution_count": 31,
      "outputs": [
        {
          "output_type": "display_data",
          "data": {
            "image/png": "[encoded data removed]",
            "text/plain": [
              "<Figure size 432x288 with 1 Axes>"
            ]
          },
          "metadata": {
            "tags": []
          }
        }
      ]
    },
    {
      "cell_type": "markdown",
      "metadata": {
        "id": "2vpQILtsHFWO",
        "colab_type": "text"
      },
      "source": [
        "###Accuracy"
      ]
    },
    {
      "cell_type": "code",
      "metadata": {
        "id": "jxDMg4BgGnoa",
        "colab_type": "code",
        "colab": {
          "base_uri": "https://localhost:8080/",
          "height": 295
        },
        "outputId": "add4c07c-02a1-4248-a8db-a948c1e8aa7a"
      },
      "source": [
        "acc_values = history_dict['acc']\n",
        "test_acc_values = history_dict['val_acc']\n",
        "\n",
        "plt.plot(epochs_range, acc_values, 'bo', label='Training accuracy')\n",
        "plt.plot(epochs_range, test_acc_values, 'ro', label='Test accuracy')\n",
        "plt.title('Training and test accuracy')\n",
        "plt.xlabel('Epochs')\n",
        "plt.ylabel('Accuracy')\n",
        "plt.legend()\n",
        "plt.show()"
      ],
      "execution_count": 32,
      "outputs": [
        {
          "output_type": "display_data",
          "data": {
            "image/png": "[encoded data removed]",
            "text/plain": [
              "<Figure size 432x288 with 1 Axes>"
            ]
          },
          "metadata": {
            "tags": []
          }
        }
      ]
    },
    {
      "cell_type": "markdown",
      "metadata": {
        "id": "0-yKN5d5nCX8",
        "colab_type": "text"
      },
      "source": [
        "##Underfitted Models"
      ]
    },
    {
      "cell_type": "markdown",
      "metadata": {
        "id": "ppkNkxHtnEMM",
        "colab_type": "text"
      },
      "source": [
        "Sometimes a model can be underfitted, i.e. the model does not represent the data very well and has a low accuracy.\n",
        "<br><br>An example of an underfitted model is shown below"
      ]
    },
    {
      "cell_type": "markdown",
      "metadata": {
        "id": "C8-Inf6_HB3-",
        "colab_type": "text"
      },
      "source": [
        "###Model"
      ]
    },
    {
      "cell_type": "code",
      "metadata": {
        "id": "HCwoW04ZnRov",
        "colab_type": "code",
        "colab": {
          "base_uri": "https://localhost:8080/",
          "height": 774
        },
        "outputId": "c7b44cf6-e686-4788-a761-6fdab323bddb"
      },
      "source": [
        "model = keras.Sequential([\n",
        "    keras.layers.Conv2D(32, (3, 3), activation='relu', input_shape=(32, 32, 3)), #convolutional layer\n",
        "    keras.layers.Dropout(0.5),\n",
        "    keras.layers.MaxPooling2D((2, 2)), #pooling to reduce dimensions\n",
        "    #\n",
        "    keras.layers.Flatten(),\n",
        "    keras.layers.Dense(32, activation='relu'), #dense layer\n",
        "    keras.layers.Dropout(0.5),\n",
        "    keras.layers.Dense(10, activation='softmax')\n",
        "])\n",
        "model.summary()\n",
        "\n",
        "model.compile(optimizer='adam', #optimizer\n",
        "             loss='sparse_categorical_crossentropy', #loss function\n",
        "             metrics=['accuracy'])\n",
        "\n",
        "epochs = 10\n",
        "keras.optimizers.Adam(learning_rate=0.00001, beta_1=0.9, beta_2=0.999, amsgrad=False) #changing learning rate for Adam optimizer\n",
        "batch = 32\n",
        "\n",
        "history = model.fit(train_images, \n",
        "                      train_labels, \n",
        "                      batch_size = batch,\n",
        "                      epochs=epochs,  \n",
        "                      validation_data=(test_images, test_labels))"
      ],
      "execution_count": 35,
      "outputs": [
        {
          "output_type": "stream",
          "text": [
            "Model: \"sequential_10\"\n",
            "_________________________________________________________________\n",
            "Layer (type)                 Output Shape              Param #   \n",
            "=================================================================\n",
            "conv2d_10 (Conv2D)           (None, 30, 30, 32)        896       \n",
            "_________________________________________________________________\n",
            "dropout_2 (Dropout)          (None, 30, 30, 32)        0         \n",
            "_________________________________________________________________\n",
            "max_pooling2d_10 (MaxPooling (None, 15, 15, 32)        0         \n",
            "_________________________________________________________________\n",
            "flatten_10 (Flatten)         (None, 7200)              0         \n",
            "_________________________________________________________________\n",
            "dense_20 (Dense)             (None, 32)                230432    \n",
            "_________________________________________________________________\n",
            "dropout_3 (Dropout)          (None, 32)                0         \n",
            "_________________________________________________________________\n",
            "dense_21 (Dense)             (None, 10)                330       \n",
            "=================================================================\n",
            "Total params: 231,658\n",
            "Trainable params: 231,658\n",
            "Non-trainable params: 0\n",
            "_________________________________________________________________\n",
            "Train on 50000 samples, validate on 10000 samples\n",
            "Epoch 1/10\n",
            "50000/50000 [==============================] - 51s 1ms/sample - loss: 2.3035 - acc: 0.0977 - val_loss: 2.3026 - val_acc: 0.1000\n",
            "Epoch 2/10\n",
            "50000/50000 [==============================] - 51s 1ms/sample - loss: 2.3028 - acc: 0.0990 - val_loss: 2.3026 - val_acc: 0.1000\n",
            "Epoch 3/10\n",
            "50000/50000 [==============================] - 51s 1ms/sample - loss: 2.3028 - acc: 0.1001 - val_loss: 2.3026 - val_acc: 0.1000\n",
            "Epoch 4/10\n",
            "50000/50000 [==============================] - 51s 1ms/sample - loss: 2.3028 - acc: 0.0983 - val_loss: 2.3026 - val_acc: 0.1000\n",
            "Epoch 5/10\n",
            "50000/50000 [==============================] - 51s 1ms/sample - loss: 2.3028 - acc: 0.0981 - val_loss: 2.3026 - val_acc: 0.1000\n",
            "Epoch 6/10\n",
            "50000/50000 [==============================] - 51s 1ms/sample - loss: 2.3028 - acc: 0.0983 - val_loss: 2.3027 - val_acc: 0.1000\n",
            "Epoch 7/10\n",
            "50000/50000 [==============================] - 51s 1ms/sample - loss: 2.3028 - acc: 0.0976 - val_loss: 2.3026 - val_acc: 0.1000\n",
            "Epoch 8/10\n",
            "50000/50000 [==============================] - 52s 1ms/sample - loss: 2.3028 - acc: 0.0983 - val_loss: 2.3026 - val_acc: 0.1000\n",
            "Epoch 9/10\n",
            "50000/50000 [==============================] - 52s 1ms/sample - loss: 2.3028 - acc: 0.0979 - val_loss: 2.3026 - val_acc: 0.1000\n",
            "Epoch 10/10\n",
            "50000/50000 [==============================] - 51s 1ms/sample - loss: 2.3027 - acc: 0.0993 - val_loss: 2.3027 - val_acc: 0.1000\n"
          ],
          "name": "stdout"
        }
      ]
    },
    {
      "cell_type": "markdown",
      "metadata": {
        "id": "fF2KP-QEG9ic",
        "colab_type": "text"
      },
      "source": [
        "###Loss"
      ]
    },
    {
      "cell_type": "code",
      "metadata": {
        "id": "4ccFnve_tO78",
        "colab_type": "code",
        "colab": {
          "base_uri": "https://localhost:8080/",
          "height": 295
        },
        "outputId": "12a8c14c-6680-4be3-f12a-d959b3fdb93e"
      },
      "source": [
        "history_dict = history.history\n",
        "loss_values = history_dict['loss']\n",
        "test_loss_values = history_dict['val_loss']\n",
        "epochs_range = range(1, epochs+1)\n",
        "\n",
        "plt.plot(epochs_range, loss_values, 'bo', label='Training loss')\n",
        "plt.plot(epochs_range, test_loss_values, 'ro', label='Test loss')\n",
        "plt.title('Training and test loss')\n",
        "plt.xlabel('Epochs')\n",
        "plt.ylabel('Loss')\n",
        "plt.legend()\n",
        "plt.show()"
      ],
      "execution_count": 36,
      "outputs": [
        {
          "output_type": "display_data",
          "data": {
            "image/png": "[encoded data removed]",
            "text/plain": [
              "<Figure size 432x288 with 1 Axes>"
            ]
          },
          "metadata": {
            "tags": []
          }
        }
      ]
    },
    {
      "cell_type": "markdown",
      "metadata": {
        "id": "gQxStzs4G6SN",
        "colab_type": "text"
      },
      "source": [
        "###Accuracy"
      ]
    },
    {
      "cell_type": "code",
      "metadata": {
        "id": "BV_QBQfftSBi",
        "colab_type": "code",
        "colab": {
          "base_uri": "https://localhost:8080/",
          "height": 295
        },
        "outputId": "832aba4d-b1a0-4898-f23b-b201aefa8b5d"
      },
      "source": [
        "acc_values = history_dict['acc']\n",
        "test_acc_values = history_dict['val_acc']\n",
        "\n",
        "plt.plot(epochs_range, acc_values, 'bo', label='Training accuracy')\n",
        "plt.plot(epochs_range, test_acc_values, 'ro', label='Test accuracy')\n",
        "plt.title('Training and test accuracy')\n",
        "plt.xlabel('Epochs')\n",
        "plt.ylabel('Accuracy')\n",
        "plt.legend()\n",
        "plt.show()"
      ],
      "execution_count": 37,
      "outputs": [
        {
          "output_type": "display_data",
          "data": {
            "image/png": "[encoded data removed]",
            "text/plain": [
              "<Figure size 432x288 with 1 Axes>"
            ]
          },
          "metadata": {
            "tags": []
          }
        }
      ]
    },
    {
      "cell_type": "markdown",
      "metadata": {
        "id": "Ly77Q5j_tWcp",
        "colab_type": "text"
      },
      "source": [
        "##Overfitted Model"
      ]
    },
    {
      "cell_type": "markdown",
      "metadata": {
        "id": "LWl4Se3KtYTy",
        "colab_type": "text"
      },
      "source": [
        "A model may also be overfitted, where the model is trained to the point that it memorizes the data being received and doesn't learn how to predict new data. This can be seen in the high level of accuracy of the training set and relatively low accuracy of the test set\n",
        "<br><br>An example of an overfitted model is show below:"
      ]
    },
    {
      "cell_type": "markdown",
      "metadata": {
        "id": "ut0lkZMAGtIf",
        "colab_type": "text"
      },
      "source": [
        "###Model:"
      ]
    },
    {
      "cell_type": "code",
      "metadata": {
        "id": "Tu3KAyvXtwEf",
        "colab_type": "code",
        "colab": {
          "base_uri": "https://localhost:8080/",
          "height": 1000
        },
        "outputId": "bf04415a-4e05-4dc9-e27f-1e2818b30a13"
      },
      "source": [
        "model = keras.Sequential([\n",
        "    keras.layers.Conv2D(128, (3, 3), activation='elu', input_shape=(32, 32, 3)), #convolutional layer\n",
        "    keras.layers.MaxPooling2D((2, 2)), #pooling to reduce dimensions\n",
        "    #\n",
        "    keras.layers.Conv2D(64, (3, 3), activation='elu', input_shape=(32, 32, 3)), #convolutional layer\n",
        "    keras.layers.MaxPooling2D((2, 2)), #pooling to reduce dimensions\n",
        "    #\n",
        "    keras.layers.Conv2D(32, (3, 3), activation='elu', input_shape=(32, 32, 3)), #convolutional layer\n",
        "    keras.layers.MaxPooling2D((2, 2)), #pooling to reduce dimensions\n",
        "    #\n",
        "    keras.layers.Flatten(),\n",
        "    keras.layers.Dense(32, activation='relu'), #dense layer\n",
        "    keras.layers.Dense(10, activation='softmax')\n",
        "])\n",
        "model.summary()\n",
        "\n",
        "model.compile(optimizer='adam', #optimizer\n",
        "             loss='sparse_categorical_crossentropy', #loss function\n",
        "             metrics=['accuracy'])\n",
        "\n",
        "epochs = 15\n",
        "keras.optimizers.Adam(learning_rate=0.001, beta_1=0.9, beta_2=0.999, amsgrad=False) #changing learning rate for Adam optimizer\n",
        "batch = 32\n",
        "\n",
        "history = model.fit(train_images, \n",
        "                      train_labels, \n",
        "                      batch_size = batch,\n",
        "                      epochs=epochs,  \n",
        "                      validation_data=(test_images, test_labels))"
      ],
      "execution_count": 5,
      "outputs": [
        {
          "output_type": "stream",
          "text": [
            "WARNING:tensorflow:From /usr/local/lib/python3.6/dist-packages/tensorflow_core/python/ops/resource_variable_ops.py:1630: calling BaseResourceVariable.__init__ (from tensorflow.python.ops.resource_variable_ops) with constraint is deprecated and will be removed in a future version.\n",
            "Instructions for updating:\n",
            "If using Keras pass *_constraint arguments to layers.\n",
            "Model: \"sequential\"\n",
            "_________________________________________________________________\n",
            "Layer (type)                 Output Shape              Param #   \n",
            "=================================================================\n",
            "conv2d (Conv2D)              (None, 30, 30, 128)       3584      \n",
            "_________________________________________________________________\n",
            "max_pooling2d (MaxPooling2D) (None, 15, 15, 128)       0         \n",
            "_________________________________________________________________\n",
            "conv2d_1 (Conv2D)            (None, 13, 13, 64)        73792     \n",
            "_________________________________________________________________\n",
            "max_pooling2d_1 (MaxPooling2 (None, 6, 6, 64)          0         \n",
            "_________________________________________________________________\n",
            "conv2d_2 (Conv2D)            (None, 4, 4, 32)          18464     \n",
            "_________________________________________________________________\n",
            "max_pooling2d_2 (MaxPooling2 (None, 2, 2, 32)          0         \n",
            "_________________________________________________________________\n",
            "flatten (Flatten)            (None, 128)               0         \n",
            "_________________________________________________________________\n",
            "dense (Dense)                (None, 32)                4128      \n",
            "_________________________________________________________________\n",
            "dense_1 (Dense)              (None, 10)                330       \n",
            "=================================================================\n",
            "Total params: 100,298\n",
            "Trainable params: 100,298\n",
            "Non-trainable params: 0\n",
            "_________________________________________________________________\n",
            "Train on 50000 samples, validate on 10000 samples\n",
            "Epoch 1/15\n",
            "50000/50000 [==============================] - 11s 216us/sample - loss: 1.5040 - acc: 0.4568 - val_loss: 1.2825 - val_acc: 0.5357\n",
            "Epoch 2/15\n",
            "50000/50000 [==============================] - 8s 151us/sample - loss: 1.1705 - acc: 0.5875 - val_loss: 1.1704 - val_acc: 0.5859\n",
            "Epoch 3/15\n",
            "50000/50000 [==============================] - 7s 145us/sample - loss: 1.0371 - acc: 0.6342 - val_loss: 1.0775 - val_acc: 0.6233\n",
            "Epoch 4/15\n",
            "50000/50000 [==============================] - 7s 148us/sample - loss: 0.9492 - acc: 0.6685 - val_loss: 0.9741 - val_acc: 0.6606\n",
            "Epoch 5/15\n",
            "50000/50000 [==============================] - 7s 146us/sample - loss: 0.8801 - acc: 0.6925 - val_loss: 1.0442 - val_acc: 0.6388\n",
            "Epoch 6/15\n",
            "50000/50000 [==============================] - 7s 145us/sample - loss: 0.8298 - acc: 0.7097 - val_loss: 0.9968 - val_acc: 0.6592\n",
            "Epoch 7/15\n",
            "50000/50000 [==============================] - 7s 145us/sample - loss: 0.7817 - acc: 0.7260 - val_loss: 0.9412 - val_acc: 0.6738\n",
            "Epoch 8/15\n",
            "50000/50000 [==============================] - 7s 144us/sample - loss: 0.7461 - acc: 0.7409 - val_loss: 0.9262 - val_acc: 0.6855\n",
            "Epoch 9/15\n",
            "50000/50000 [==============================] - 7s 146us/sample - loss: 0.7133 - acc: 0.7502 - val_loss: 0.9209 - val_acc: 0.6884\n",
            "Epoch 10/15\n",
            "50000/50000 [==============================] - 7s 145us/sample - loss: 0.6814 - acc: 0.7613 - val_loss: 0.9216 - val_acc: 0.6905\n",
            "Epoch 11/15\n",
            "50000/50000 [==============================] - 7s 145us/sample - loss: 0.6539 - acc: 0.7696 - val_loss: 0.9322 - val_acc: 0.6924\n",
            "Epoch 12/15\n",
            "50000/50000 [==============================] - 7s 145us/sample - loss: 0.6319 - acc: 0.7784 - val_loss: 0.9644 - val_acc: 0.6903\n",
            "Epoch 13/15\n",
            "50000/50000 [==============================] - 7s 146us/sample - loss: 0.6081 - acc: 0.7852 - val_loss: 0.9413 - val_acc: 0.6962\n",
            "Epoch 14/15\n",
            "50000/50000 [==============================] - 7s 143us/sample - loss: 0.5895 - acc: 0.7917 - val_loss: 0.9510 - val_acc: 0.7031\n",
            "Epoch 15/15\n",
            "50000/50000 [==============================] - 7s 147us/sample - loss: 0.5656 - acc: 0.8001 - val_loss: 0.9586 - val_acc: 0.7057\n"
          ],
          "name": "stdout"
        }
      ]
    },
    {
      "cell_type": "markdown",
      "metadata": {
        "id": "GnZgfGfuGwsK",
        "colab_type": "text"
      },
      "source": [
        "###Loss"
      ]
    },
    {
      "cell_type": "code",
      "metadata": {
        "id": "rabMdNce7iSQ",
        "colab_type": "code",
        "colab": {
          "base_uri": "https://localhost:8080/",
          "height": 295
        },
        "outputId": "45a1fea7-1d66-4f8f-e120-bda9bb4664c2"
      },
      "source": [
        "history_dict = history.history\n",
        "loss_values = history_dict['loss']\n",
        "test_loss_values = history_dict['val_loss']\n",
        "epochs_range = range(1, epochs+1)\n",
        "\n",
        "plt.plot(epochs_range, loss_values, 'bo', label='Training loss')\n",
        "plt.plot(epochs_range, test_loss_values, 'ro', label='Test loss')\n",
        "plt.title('Training and test loss')\n",
        "plt.xlabel('Epochs')\n",
        "plt.ylabel('Loss')\n",
        "plt.legend()\n",
        "plt.show()"
      ],
      "execution_count": 6,
      "outputs": [
        {
          "output_type": "display_data",
          "data": {
            "image/png": "[encoded data removed]",
            "text/plain": [
              "<Figure size 432x288 with 1 Axes>"
            ]
          },
          "metadata": {
            "tags": []
          }
        }
      ]
    },
    {
      "cell_type": "markdown",
      "metadata": {
        "id": "irYGlmhgGzCu",
        "colab_type": "text"
      },
      "source": [
        "###Accuracy"
      ]
    },
    {
      "cell_type": "code",
      "metadata": {
        "id": "Zj9ciz5E7jWS",
        "colab_type": "code",
        "colab": {
          "base_uri": "https://localhost:8080/",
          "height": 295
        },
        "outputId": "4b2c3e8b-9e63-4bcc-d22a-edbfc91bf1ed"
      },
      "source": [
        "acc_values = history_dict['acc']\n",
        "test_acc_values = history_dict['val_acc']\n",
        "\n",
        "plt.plot(epochs_range, acc_values, 'bo', label='Training accuracy')\n",
        "plt.plot(epochs_range, test_acc_values, 'ro', label='Test accuracy')\n",
        "plt.title('Training and test accuracy')\n",
        "plt.xlabel('Epochs')\n",
        "plt.ylabel('Accuracy')\n",
        "plt.legend()\n",
        "plt.show()"
      ],
      "execution_count": 7,
      "outputs": [
        {
          "output_type": "display_data",
          "data": {
            "image/png": "[encoded data removed]",
            "text/plain": [
              "<Figure size 432x288 with 1 Axes>"
            ]
          },
          "metadata": {
            "tags": []
          }
        }
      ]
    },
    {
      "cell_type": "markdown",
      "metadata": {
        "id": "bf_5_WgY9kLd",
        "colab_type": "text"
      },
      "source": [
        "#Finetuning a Pretrained Model"
      ]
    },
    {
      "cell_type": "markdown",
      "metadata": {
        "id": "H5hMGMf_9nzX",
        "colab_type": "text"
      },
      "source": [
        "When finetuning a pretrained model, the first thing I would do is replace the softmax layer of the model with a custome softmax layer that better fits the data I'm using the model for.\n",
        "<br><br>Next, I would use a smaller learning rate than for networks I build from scratch. The above models were set to a relatively high learning rate of 0.001 (or similar) however for a pretrained model I would use something more like 0.0001 (or similar). The reason for this is that I wouldn't want to change the weights of the pretrained model to quickly since the whole point of using that model is to have good preset weights. Setting the learning rate to high would cause those values to change to quickly, thereby nullifying one of the better parts of using a pretrained model.\n",
        "<br><br>From there I would freeze the weights of the first few layers since those layers usually capture universal features such as curves and edges with already good weights attached to them.\n",
        "<br><br>Finally, I would begin changing the hyperparameters, such as batch size, epochs, dropout, and learning rate (if needed) to slowly bring the model accuracy of both the train and test sets higher and higher."
      ]
    }
  ]
}