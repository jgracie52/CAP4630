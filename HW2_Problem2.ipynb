{
  "nbformat": 4,
  "nbformat_minor": 0,
  "metadata": {
    "colab": {
      "name": "HW2-Problem2.ipynb",
      "provenance": [],
      "collapsed_sections": [
        "cbbD4ke3OjI9",
        "r1H55sKcO0b9",
        "mrnJoSfDPGUl",
        "H7fzOpfuQcbb",
        "AX4tCeZJQljd",
        "GNmv9FQsRC27",
        "6VYxmIirUcqS",
        "1E3-IDeXUfWM",
        "Npr1TfwgU4RO",
        "Fnj9hJbAPJ49",
        "hGt061ATPXMS",
        "zxohXnsFPeZf"
      ],
      "include_colab_link": true
    },
    "kernelspec": {
      "name": "python3",
      "display_name": "Python 3"
    }
  },
  "cells": [
    {
      "cell_type": "markdown",
      "metadata": {
        "id": "view-in-github",
        "colab_type": "text"
      },
      "source": [
        "<a href=\"https://colab.research.google.com/github/jgracie52/CAP4630/blob/master/HW2_Problem2.ipynb\" target=\"_parent\"><img src=\"https://colab.research.google.com/assets/colab-badge.svg\" alt=\"Open In Colab\"/></a>"
      ]
    },
    {
      "cell_type": "markdown",
      "metadata": {
        "id": "cbbD4ke3OjI9",
        "colab_type": "text"
      },
      "source": [
        "##Setup for Keras and MNIST Fashion Data Set"
      ]
    },
    {
      "cell_type": "code",
      "metadata": {
        "id": "hn8xuN8IOdt-",
        "colab_type": "code",
        "outputId": "657301e3-50e3-4d0a-ffda-f47acd3e3733",
        "colab": {
          "base_uri": "https://localhost:8080/",
          "height": 204
        }
      },
      "source": [
        "import tensorflow as tf\n",
        "from tensorflow import keras\n",
        "import matplotlib.pyplot as plt\n",
        "import numpy as np\n",
        "\n",
        "fashion_mnist = keras.datasets.fashion_mnist\n",
        "\n",
        "(train_images, train_labels), (test_images, test_labels) = fashion_mnist.load_data()"
      ],
      "execution_count": 2,
      "outputs": [
        {
          "output_type": "display_data",
          "data": {
            "text/html": [
              "<p style=\"color: red;\">\n",
              "The default version of TensorFlow in Colab will soon switch to TensorFlow 2.x.<br>\n",
              "We recommend you <a href=\"https://www.tensorflow.org/guide/migrate\" target=\"_blank\">upgrade</a> now \n",
              "or ensure your notebook will continue to use TensorFlow 1.x via the <code>%tensorflow_version 1.x</code> magic:\n",
              "<a href=\"https://colab.research.google.com/notebooks/tensorflow_version.ipynb\" target=\"_blank\">more info</a>.</p>\n"
            ],
            "text/plain": [
              "<IPython.core.display.HTML object>"
            ]
          },
          "metadata": {
            "tags": []
          }
        },
        {
          "output_type": "stream",
          "text": [
            "Downloading data from https://storage.googleapis.com/tensorflow/tf-keras-datasets/train-labels-idx1-ubyte.gz\n",
            "32768/29515 [=================================] - 0s 0us/step\n",
            "Downloading data from https://storage.googleapis.com/tensorflow/tf-keras-datasets/train-images-idx3-ubyte.gz\n",
            "26427392/26421880 [==============================] - 0s 0us/step\n",
            "Downloading data from https://storage.googleapis.com/tensorflow/tf-keras-datasets/t10k-labels-idx1-ubyte.gz\n",
            "8192/5148 [===============================================] - 0s 0us/step\n",
            "Downloading data from https://storage.googleapis.com/tensorflow/tf-keras-datasets/t10k-images-idx3-ubyte.gz\n",
            "4423680/4422102 [==============================] - 0s 0us/step\n"
          ],
          "name": "stdout"
        }
      ]
    },
    {
      "cell_type": "markdown",
      "metadata": {
        "id": "r1H55sKcO0b9",
        "colab_type": "text"
      },
      "source": [
        "##Preprocess the data"
      ]
    },
    {
      "cell_type": "code",
      "metadata": {
        "id": "yapZjmxCPCPu",
        "colab_type": "code",
        "colab": {}
      },
      "source": [
        "train_images = train_images / 255.0\n",
        "test_images = test_images / 255.0"
      ],
      "execution_count": 0,
      "outputs": []
    },
    {
      "cell_type": "markdown",
      "metadata": {
        "id": "mrnJoSfDPGUl",
        "colab_type": "text"
      },
      "source": [
        "##Setup the Models"
      ]
    },
    {
      "cell_type": "markdown",
      "metadata": {
        "id": "H7fzOpfuQcbb",
        "colab_type": "text"
      },
      "source": [
        "####Underfitted Model"
      ]
    },
    {
      "cell_type": "markdown",
      "metadata": {
        "id": "AX4tCeZJQljd",
        "colab_type": "text"
      },
      "source": [
        "#####Create the model"
      ]
    },
    {
      "cell_type": "code",
      "metadata": {
        "id": "MN9RPttsQraf",
        "colab_type": "code",
        "outputId": "5039b09c-33fb-450e-d105-a4c64c48a7b3",
        "colab": {
          "base_uri": "https://localhost:8080/",
          "height": 512
        }
      },
      "source": [
        "# set up the layers\n",
        "\n",
        "model = keras.Sequential([\n",
        "    keras.layers.Flatten(input_shape=(28, 28)),\n",
        "    keras.layers.Dense(64, activation=tf.nn.elu)\n",
        "])\n",
        "\n",
        "# compile the model\n",
        "\n",
        "model.compile(optimizer='adam',\n",
        "             loss='sparse_categorical_crossentropy',\n",
        "             metrics=['accuracy'])\n",
        "\n",
        "# train the model\n",
        "epochs = 10\n",
        "history = model.fit(train_images, \n",
        "                      train_labels, \n",
        "                      epochs=epochs,  \n",
        "                      validation_data=(test_images, test_labels))"
      ],
      "execution_count": 4,
      "outputs": [
        {
          "output_type": "stream",
          "text": [
            "WARNING:tensorflow:From /usr/local/lib/python3.6/dist-packages/tensorflow_core/python/ops/resource_variable_ops.py:1630: calling BaseResourceVariable.__init__ (from tensorflow.python.ops.resource_variable_ops) with constraint is deprecated and will be removed in a future version.\n",
            "Instructions for updating:\n",
            "If using Keras pass *_constraint arguments to layers.\n",
            "WARNING:tensorflow:From /usr/local/lib/python3.6/dist-packages/tensorflow_core/python/ops/math_grad.py:1424: where (from tensorflow.python.ops.array_ops) is deprecated and will be removed in a future version.\n",
            "Instructions for updating:\n",
            "Use tf.where in 2.0, which has the same broadcast rule as np.where\n",
            "Train on 60000 samples, validate on 10000 samples\n",
            "Epoch 1/10\n",
            "60000/60000 [==============================] - 5s 83us/sample - loss: 4.2163 - acc: 0.2193 - val_loss: 4.1587 - val_acc: 0.2194\n",
            "Epoch 2/10\n",
            "60000/60000 [==============================] - 4s 70us/sample - loss: 4.1578 - acc: 0.2174 - val_loss: 4.1580 - val_acc: 0.1676\n",
            "Epoch 3/10\n",
            "60000/60000 [==============================] - 4s 69us/sample - loss: 4.1427 - acc: 0.1699 - val_loss: 4.1410 - val_acc: 0.1656\n",
            "Epoch 4/10\n",
            "60000/60000 [==============================] - 4s 73us/sample - loss: 4.1347 - acc: 0.1722 - val_loss: 4.1334 - val_acc: 0.1695\n",
            "Epoch 5/10\n",
            "60000/60000 [==============================] - 4s 65us/sample - loss: 4.1357 - acc: 0.1702 - val_loss: 4.1597 - val_acc: 0.1535\n",
            "Epoch 6/10\n",
            "60000/60000 [==============================] - 4s 65us/sample - loss: 4.1587 - acc: 0.1572 - val_loss: 4.1597 - val_acc: 0.1534\n",
            "Epoch 7/10\n",
            "60000/60000 [==============================] - 4s 69us/sample - loss: 4.1587 - acc: 0.1571 - val_loss: 4.1597 - val_acc: 0.1532\n",
            "Epoch 8/10\n",
            "60000/60000 [==============================] - 4s 66us/sample - loss: 4.1587 - acc: 0.1571 - val_loss: 4.1597 - val_acc: 0.1535\n",
            "Epoch 9/10\n",
            "60000/60000 [==============================] - 4s 65us/sample - loss: 4.1587 - acc: 0.1568 - val_loss: 4.1597 - val_acc: 0.1540\n",
            "Epoch 10/10\n",
            "60000/60000 [==============================] - 4s 67us/sample - loss: 4.1587 - acc: 0.1562 - val_loss: 4.1597 - val_acc: 0.1523\n"
          ],
          "name": "stdout"
        }
      ]
    },
    {
      "cell_type": "markdown",
      "metadata": {
        "id": "Bpfu1jm07OID",
        "colab_type": "text"
      },
      "source": [
        "#####Display loss of model"
      ]
    },
    {
      "cell_type": "code",
      "metadata": {
        "id": "SfudKk4a7TCo",
        "colab_type": "code",
        "colab": {
          "base_uri": "https://localhost:8080/",
          "height": 295
        },
        "outputId": "243db4e9-a0bb-450e-b74c-33be66be2d5f"
      },
      "source": [
        "history_dict = history.history\n",
        "loss_values = history_dict['loss']\n",
        "test_loss_values = history_dict['val_loss']\n",
        "epochs_range = range(1, epochs+1)\n",
        "plt.plot(epochs_range, loss_values, 'bo', label='Training loss')\n",
        "plt.plot(epochs_range, test_loss_values, 'ro', label='Test loss')\n",
        "plt.title('Training and test loss')\n",
        "plt.xlabel('Epochs')\n",
        "plt.ylabel('Loss')\n",
        "plt.legend()\n",
        "plt.show()"
      ],
      "execution_count": 5,
      "outputs": [
        {
          "output_type": "display_data",
          "data": {
            "image/png": "[encoded data removed]",
            "text/plain": [
              "<Figure size 432x288 with 1 Axes>"
            ]
          },
          "metadata": {
            "tags": []
          }
        }
      ]
    },
    {
      "cell_type": "markdown",
      "metadata": {
        "id": "GNmv9FQsRC27",
        "colab_type": "text"
      },
      "source": [
        "#####Display accuracy of model"
      ]
    },
    {
      "cell_type": "code",
      "metadata": {
        "id": "iK5Yf8ueRJOR",
        "colab_type": "code",
        "outputId": "21c5ee27-55ff-4f39-9b31-05133055607b",
        "colab": {
          "base_uri": "https://localhost:8080/",
          "height": 295
        }
      },
      "source": [
        "history_dict = history.history\n",
        "acc_values = history_dict['acc']\n",
        "test_acc_values = history_dict['val_acc']\n",
        "epochs_range = range(1, epochs+1)\n",
        "\n",
        "plt.plot(epochs_range, acc_values, 'bo', label='Training accuracy')\n",
        "plt.plot(epochs_range, test_acc_values, 'ro', label='Test accuracy')\n",
        "plt.title('Training and test accuracy')\n",
        "plt.xlabel('Epochs')\n",
        "plt.ylabel('Accuracy')\n",
        "plt.legend()\n",
        "plt.show()"
      ],
      "execution_count": 6,
      "outputs": [
        {
          "output_type": "display_data",
          "data": {
            "image/png": "[encoded data removed]",
            "text/plain": [
              "<Figure size 432x288 with 1 Axes>"
            ]
          },
          "metadata": {
            "tags": []
          }
        }
      ]
    },
    {
      "cell_type": "markdown",
      "metadata": {
        "id": "6VYxmIirUcqS",
        "colab_type": "text"
      },
      "source": [
        "####Overfitted Model"
      ]
    },
    {
      "cell_type": "markdown",
      "metadata": {
        "id": "1E3-IDeXUfWM",
        "colab_type": "text"
      },
      "source": [
        "#####Create the model"
      ]
    },
    {
      "cell_type": "code",
      "metadata": {
        "id": "-NZH735pUh-P",
        "colab_type": "code",
        "outputId": "eaf60455-7848-42bd-9ce8-55df7b648b3b",
        "colab": {
          "base_uri": "https://localhost:8080/",
          "height": 562
        }
      },
      "source": [
        "# set up the layers\n",
        "\n",
        "model = keras.Sequential([\n",
        "    keras.layers.Flatten(input_shape=(28, 28)),\n",
        "    keras.layers.Dense(255, activation=tf.nn.elu),\n",
        "    keras.layers.Dense(128, activation=tf.nn.relu),\n",
        "    keras.layers.Dense(64, activation=tf.nn.softmax)\n",
        "])\n",
        "\n",
        "# compile the model\n",
        "\n",
        "model.compile(optimizer='adam',\n",
        "             loss='sparse_categorical_crossentropy',\n",
        "             metrics=['accuracy'])\n",
        "\n",
        "# train the model\n",
        "epochs = 15\n",
        "history = model.fit(train_images, \n",
        "                      train_labels, \n",
        "                      epochs=epochs,  \n",
        "                      validation_data=(test_images, test_labels))"
      ],
      "execution_count": 12,
      "outputs": [
        {
          "output_type": "stream",
          "text": [
            "Train on 60000 samples, validate on 10000 samples\n",
            "Epoch 1/15\n",
            "60000/60000 [==============================] - 8s 134us/sample - loss: 0.4871 - acc: 0.8254 - val_loss: 0.4443 - val_acc: 0.8391\n",
            "Epoch 2/15\n",
            "60000/60000 [==============================] - 8s 128us/sample - loss: 0.3633 - acc: 0.8655 - val_loss: 0.3751 - val_acc: 0.8627\n",
            "Epoch 3/15\n",
            "60000/60000 [==============================] - 9s 144us/sample - loss: 0.3266 - acc: 0.8792 - val_loss: 0.3644 - val_acc: 0.8672\n",
            "Epoch 4/15\n",
            "60000/60000 [==============================] - 8s 136us/sample - loss: 0.3052 - acc: 0.8857 - val_loss: 0.3834 - val_acc: 0.8562\n",
            "Epoch 5/15\n",
            "60000/60000 [==============================] - 7s 120us/sample - loss: 0.2863 - acc: 0.8925 - val_loss: 0.3489 - val_acc: 0.8714\n",
            "Epoch 6/15\n",
            "60000/60000 [==============================] - 7s 122us/sample - loss: 0.2733 - acc: 0.8960 - val_loss: 0.3398 - val_acc: 0.8815\n",
            "Epoch 7/15\n",
            "60000/60000 [==============================] - 8s 127us/sample - loss: 0.2592 - acc: 0.9014 - val_loss: 0.3445 - val_acc: 0.8806\n",
            "Epoch 8/15\n",
            "60000/60000 [==============================] - 9s 148us/sample - loss: 0.2475 - acc: 0.9057 - val_loss: 0.3443 - val_acc: 0.8799\n",
            "Epoch 9/15\n",
            "60000/60000 [==============================] - 9s 145us/sample - loss: 0.2338 - acc: 0.9102 - val_loss: 0.3475 - val_acc: 0.8793\n",
            "Epoch 10/15\n",
            "60000/60000 [==============================] - 9s 147us/sample - loss: 0.2256 - acc: 0.9129 - val_loss: 0.3306 - val_acc: 0.8901\n",
            "Epoch 11/15\n",
            "60000/60000 [==============================] - 7s 122us/sample - loss: 0.2186 - acc: 0.9165 - val_loss: 0.3542 - val_acc: 0.8771\n",
            "Epoch 12/15\n",
            "60000/60000 [==============================] - 7s 121us/sample - loss: 0.2084 - acc: 0.9198 - val_loss: 0.3440 - val_acc: 0.8840\n",
            "Epoch 13/15\n",
            "60000/60000 [==============================] - 8s 125us/sample - loss: 0.2025 - acc: 0.9222 - val_loss: 0.3638 - val_acc: 0.8732\n",
            "Epoch 14/15\n",
            "60000/60000 [==============================] - 8s 140us/sample - loss: 0.1931 - acc: 0.9247 - val_loss: 0.3772 - val_acc: 0.8862\n",
            "Epoch 15/15\n",
            "60000/60000 [==============================] - 9s 147us/sample - loss: 0.1897 - acc: 0.9275 - val_loss: 0.3764 - val_acc: 0.8821\n"
          ],
          "name": "stdout"
        }
      ]
    },
    {
      "cell_type": "markdown",
      "metadata": {
        "id": "Sjo8_jCX70_c",
        "colab_type": "text"
      },
      "source": [
        "#####Display loss of model"
      ]
    },
    {
      "cell_type": "code",
      "metadata": {
        "id": "tXTAXceY74EQ",
        "colab_type": "code",
        "colab": {
          "base_uri": "https://localhost:8080/",
          "height": 295
        },
        "outputId": "d17e8bf2-d01d-4f37-cc37-0bd1e6eaaef1"
      },
      "source": [
        "history_dict = history.history\n",
        "loss_values = history_dict['loss']\n",
        "test_loss_values = history_dict['val_loss']\n",
        "epochs_range = range(1, epochs+1)\n",
        "plt.plot(epochs_range, loss_values, 'bo', label='Training loss')\n",
        "plt.plot(epochs_range, test_loss_values, 'ro', label='Test loss')\n",
        "plt.title('Training and test loss')\n",
        "plt.xlabel('Epochs')\n",
        "plt.ylabel('Loss')\n",
        "plt.legend()\n",
        "plt.show()"
      ],
      "execution_count": 13,
      "outputs": [
        {
          "output_type": "display_data",
          "data": {
            "image/png": "[encoded data removed]",
            "text/plain": [
              "<Figure size 432x288 with 1 Axes>"
            ]
          },
          "metadata": {
            "tags": []
          }
        }
      ]
    },
    {
      "cell_type": "markdown",
      "metadata": {
        "id": "Npr1TfwgU4RO",
        "colab_type": "text"
      },
      "source": [
        "#####Display accuracy of model"
      ]
    },
    {
      "cell_type": "code",
      "metadata": {
        "id": "q07VoujWU9RV",
        "colab_type": "code",
        "outputId": "f35508e1-e96c-4bdd-c7df-8185f3c3836b",
        "colab": {
          "base_uri": "https://localhost:8080/",
          "height": 295
        }
      },
      "source": [
        "history_dict = history.history\n",
        "acc_values = history_dict['acc']\n",
        "test_acc_values = history_dict['val_acc']\n",
        "epochs_range = range(1, epochs+1)\n",
        "\n",
        "plt.plot(epochs_range, acc_values, 'bo', label='Training accuracy')\n",
        "plt.plot(epochs_range, test_acc_values, 'ro', label='Test accuracy')\n",
        "plt.title('Training and test accuracy')\n",
        "plt.xlabel('Epochs')\n",
        "plt.ylabel('Accuracy')\n",
        "plt.legend()\n",
        "plt.show()"
      ],
      "execution_count": 14,
      "outputs": [
        {
          "output_type": "display_data",
          "data": {
            "image/png": "[encoded data removed]",
            "text/plain": [
              "<Figure size 432x288 with 1 Axes>"
            ]
          },
          "metadata": {
            "tags": []
          }
        }
      ]
    },
    {
      "cell_type": "markdown",
      "metadata": {
        "id": "Fnj9hJbAPJ49",
        "colab_type": "text"
      },
      "source": [
        "####Well fitted model"
      ]
    },
    {
      "cell_type": "markdown",
      "metadata": {
        "id": "hGt061ATPXMS",
        "colab_type": "text"
      },
      "source": [
        "#####Create the model"
      ]
    },
    {
      "cell_type": "code",
      "metadata": {
        "id": "F2lMR83kPT7i",
        "colab_type": "code",
        "outputId": "825beb50-eb8f-4813-eb55-d4f5fe40fc83",
        "colab": {
          "base_uri": "https://localhost:8080/",
          "height": 386
        }
      },
      "source": [
        "# set up the layers\n",
        "\n",
        "model = keras.Sequential([\n",
        "    keras.layers.Flatten(input_shape=(28, 28)),\n",
        "    keras.layers.Dense(128, activation=tf.nn.elu),\n",
        "    keras.layers.Dense(64, activation=tf.nn.leaky_relu),\n",
        "    keras.layers.Dropout(0.25),\n",
        "    keras.layers.Dense(10, activation=tf.nn.softmax)\n",
        "])\n",
        "\n",
        "# compile the model\n",
        "\n",
        "model.compile(optimizer='adam',\n",
        "             loss='sparse_categorical_crossentropy',\n",
        "             metrics=['accuracy'])\n",
        "\n",
        "# train the model\n",
        "epochs = 10\n",
        "history = model.fit(train_images, \n",
        "                      train_labels, \n",
        "                      epochs=epochs,  \n",
        "                      validation_data=(test_images, test_labels))"
      ],
      "execution_count": 9,
      "outputs": [
        {
          "output_type": "stream",
          "text": [
            "Train on 60000 samples, validate on 10000 samples\n",
            "Epoch 1/10\n",
            "60000/60000 [==============================] - 6s 103us/sample - loss: 0.5269 - acc: 0.8095 - val_loss: 0.4171 - val_acc: 0.8489\n",
            "Epoch 2/10\n",
            "60000/60000 [==============================] - 6s 101us/sample - loss: 0.4010 - acc: 0.8537 - val_loss: 0.3952 - val_acc: 0.8542\n",
            "Epoch 3/10\n",
            "60000/60000 [==============================] - 6s 97us/sample - loss: 0.3598 - acc: 0.8690 - val_loss: 0.3916 - val_acc: 0.8546\n",
            "Epoch 4/10\n",
            "60000/60000 [==============================] - 6s 94us/sample - loss: 0.3379 - acc: 0.8755 - val_loss: 0.3584 - val_acc: 0.8713\n",
            "Epoch 5/10\n",
            "60000/60000 [==============================] - 6s 105us/sample - loss: 0.3205 - acc: 0.8811 - val_loss: 0.3450 - val_acc: 0.8755\n",
            "Epoch 6/10\n",
            "60000/60000 [==============================] - 6s 95us/sample - loss: 0.3035 - acc: 0.8877 - val_loss: 0.3632 - val_acc: 0.8700\n",
            "Epoch 7/10\n",
            "60000/60000 [==============================] - 6s 108us/sample - loss: 0.2919 - acc: 0.8905 - val_loss: 0.3497 - val_acc: 0.8755\n",
            "Epoch 8/10\n",
            "60000/60000 [==============================] - 6s 103us/sample - loss: 0.2803 - acc: 0.8948 - val_loss: 0.3295 - val_acc: 0.8820\n",
            "Epoch 9/10\n",
            "60000/60000 [==============================] - 6s 103us/sample - loss: 0.2704 - acc: 0.8988 - val_loss: 0.3716 - val_acc: 0.8716\n",
            "Epoch 10/10\n",
            "60000/60000 [==============================] - 6s 100us/sample - loss: 0.2594 - acc: 0.9027 - val_loss: 0.3259 - val_acc: 0.8876\n"
          ],
          "name": "stdout"
        }
      ]
    },
    {
      "cell_type": "markdown",
      "metadata": {
        "id": "P1G2-LYG7_M1",
        "colab_type": "text"
      },
      "source": [
        "#####Display loss of model"
      ]
    },
    {
      "cell_type": "code",
      "metadata": {
        "id": "_fBFaaoJ8DNj",
        "colab_type": "code",
        "colab": {
          "base_uri": "https://localhost:8080/",
          "height": 295
        },
        "outputId": "f4ad8983-2ea1-437e-d9f1-730790643778"
      },
      "source": [
        "history_dict = history.history\n",
        "loss_values = history_dict['loss']\n",
        "test_loss_values = history_dict['val_loss']\n",
        "epochs_range = range(1, epochs+1)\n",
        "plt.plot(epochs_range, loss_values, 'bo', label='Training loss')\n",
        "plt.plot(epochs_range, test_loss_values, 'ro', label='Test loss')\n",
        "plt.title('Training and test loss')\n",
        "plt.xlabel('Epochs')\n",
        "plt.ylabel('Loss')\n",
        "plt.legend()\n",
        "plt.show()"
      ],
      "execution_count": 11,
      "outputs": [
        {
          "output_type": "display_data",
          "data": {
            "image/png": "[encoded data removed]",
            "text/plain": [
              "<Figure size 432x288 with 1 Axes>"
            ]
          },
          "metadata": {
            "tags": []
          }
        }
      ]
    },
    {
      "cell_type": "markdown",
      "metadata": {
        "id": "zxohXnsFPeZf",
        "colab_type": "text"
      },
      "source": [
        "#####Display accuracy of model"
      ]
    },
    {
      "cell_type": "code",
      "metadata": {
        "id": "8xTC1MwGPj0s",
        "colab_type": "code",
        "outputId": "25bb0a54-f41d-487c-83b0-06ba1e063f6b",
        "colab": {
          "base_uri": "https://localhost:8080/",
          "height": 295
        }
      },
      "source": [
        "history_dict = history.history\n",
        "acc_values = history_dict['acc']\n",
        "test_acc_values = history_dict['val_acc']\n",
        "epochs_range = range(1, epochs+1)\n",
        "\n",
        "plt.plot(epochs_range, acc_values, 'bo', label='Training accuracy')\n",
        "plt.plot(epochs_range, test_acc_values, 'ro', label='Test accuracy')\n",
        "plt.title('Training and test accuracy')\n",
        "plt.xlabel('Epochs')\n",
        "plt.ylabel('Accuracy')\n",
        "plt.legend()\n",
        "plt.show()"
      ],
      "execution_count": 10,
      "outputs": [
        {
          "output_type": "display_data",
          "data": {
            "image/png": "[encoded data removed]",
            "text/plain": [
              "<Figure size 432x288 with 1 Axes>"
            ]
          },
          "metadata": {
            "tags": []
          }
        }
      ]
    }
  ]
}