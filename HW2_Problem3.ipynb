{
  "nbformat": 4,
  "nbformat_minor": 0,
  "metadata": {
    "colab": {
      "name": "HW2-Problem3.ipynb",
      "provenance": [],
      "collapsed_sections": [],
      "include_colab_link": true
    },
    "kernelspec": {
      "name": "python3",
      "display_name": "Python 3"
    },
    "accelerator": "GPU"
  },
  "cells": [
    {
      "cell_type": "markdown",
      "metadata": {
        "id": "view-in-github",
        "colab_type": "text"
      },
      "source": [
        "<a href=\"https://colab.research.google.com/github/jgracie52/CAP4630/blob/master/HW2_Problem3.ipynb\" target=\"_parent\"><img src=\"https://colab.research.google.com/assets/colab-badge.svg\" alt=\"Open In Colab\"/></a>"
      ]
    },
    {
      "cell_type": "markdown",
      "metadata": {
        "id": "65OF9BpoVqQ8",
        "colab_type": "text"
      },
      "source": [
        "##Setup the CIFAR10 Dataset"
      ]
    },
    {
      "cell_type": "code",
      "metadata": {
        "id": "sOGazQb5Vm3J",
        "colab_type": "code",
        "colab": {}
      },
      "source": [
        "import tensorflow as tf\n",
        "from tensorflow import keras\n",
        "from keras.datasets import cifar10\n",
        "import matplotlib.pyplot as plt\n",
        "import numpy as np\n",
        "\n",
        "(train_images, train_labels), (test_images, test_labels) = cifar10.load_data()"
      ],
      "execution_count": 0,
      "outputs": []
    },
    {
      "cell_type": "markdown",
      "metadata": {
        "id": "whSof03pXFvf",
        "colab_type": "text"
      },
      "source": [
        "##Preprocess the data"
      ]
    },
    {
      "cell_type": "code",
      "metadata": {
        "id": "3bykvZk5XHtI",
        "colab_type": "code",
        "colab": {}
      },
      "source": [
        "train_images = train_images.reshape((50000, 32, 32, 3)) /255.0\n",
        "test_images = test_images.reshape((10000, 32, 32, 3)) /255.0"
      ],
      "execution_count": 0,
      "outputs": []
    },
    {
      "cell_type": "markdown",
      "metadata": {
        "id": "RjoLcciLWk1Y",
        "colab_type": "text"
      },
      "source": [
        "##Set up the Models"
      ]
    },
    {
      "cell_type": "markdown",
      "metadata": {
        "id": "rya1p0CEwzM5",
        "colab_type": "text"
      },
      "source": [
        "####Under fitted model"
      ]
    },
    {
      "cell_type": "code",
      "metadata": {
        "id": "Kx3rGmzRw2Ep",
        "colab_type": "code",
        "outputId": "f910f375-d14b-4dba-f638-0bf245a5219f",
        "colab": {
          "base_uri": "https://localhost:8080/",
          "height": 334
        }
      },
      "source": [
        "# set up the layers\n",
        "\n",
        "model = keras.Sequential([\n",
        "    keras.layers.Conv2D(32, (3, 3), activation='elu', input_shape=(32, 32, 3)),\n",
        "    keras.layers.MaxPooling2D((2, 2)),\n",
        "    #\n",
        "    keras.layers.Flatten(),\n",
        "    keras.layers.Dense(32, activation='relu'),\n",
        "    keras.layers.Dense(10, activation='softmax')\n",
        "])\n",
        "model.summary()"
      ],
      "execution_count": 25,
      "outputs": [
        {
          "output_type": "stream",
          "text": [
            "Model: \"sequential_4\"\n",
            "_________________________________________________________________\n",
            "Layer (type)                 Output Shape              Param #   \n",
            "=================================================================\n",
            "conv2d_14 (Conv2D)           (None, 30, 30, 32)        896       \n",
            "_________________________________________________________________\n",
            "max_pooling2d_9 (MaxPooling2 (None, 15, 15, 32)        0         \n",
            "_________________________________________________________________\n",
            "flatten_4 (Flatten)          (None, 7200)              0         \n",
            "_________________________________________________________________\n",
            "dense_8 (Dense)              (None, 32)                230432    \n",
            "_________________________________________________________________\n",
            "dense_9 (Dense)              (None, 10)                330       \n",
            "=================================================================\n",
            "Total params: 231,658\n",
            "Trainable params: 231,658\n",
            "Non-trainable params: 0\n",
            "_________________________________________________________________\n"
          ],
          "name": "stdout"
        }
      ]
    },
    {
      "cell_type": "code",
      "metadata": {
        "id": "t1O1UJWtw60S",
        "colab_type": "code",
        "colab": {}
      },
      "source": [
        "# compile the model\n",
        "\n",
        "model.compile(optimizer='adam',\n",
        "             loss='sparse_categorical_crossentropy',\n",
        "             metrics=['accuracy'])"
      ],
      "execution_count": 0,
      "outputs": []
    },
    {
      "cell_type": "code",
      "metadata": {
        "id": "hMMLMgcqw_VX",
        "colab_type": "code",
        "outputId": "6ecbc3eb-f20e-4b5e-f023-e6f361e1905f",
        "colab": {
          "base_uri": "https://localhost:8080/",
          "height": 386
        }
      },
      "source": [
        "# train the model\n",
        "epochs = 10\n",
        "history = model.fit(train_images, \n",
        "                      train_labels, \n",
        "                      epochs=epochs,  \n",
        "                      validation_data=(test_images, test_labels))"
      ],
      "execution_count": 27,
      "outputs": [
        {
          "output_type": "stream",
          "text": [
            "Train on 50000 samples, validate on 10000 samples\n",
            "Epoch 1/10\n",
            "50000/50000 [==============================] - 5s 104us/sample - loss: 2.9526 - acc: 0.0987 - val_loss: 2.3029 - val_acc: 0.1001\n",
            "Epoch 2/10\n",
            "50000/50000 [==============================] - 5s 101us/sample - loss: 2.3031 - acc: 0.0987 - val_loss: 2.3027 - val_acc: 0.1000\n",
            "Epoch 3/10\n",
            "50000/50000 [==============================] - 5s 100us/sample - loss: 2.3027 - acc: 0.0973 - val_loss: 2.3028 - val_acc: 0.1000\n",
            "Epoch 4/10\n",
            "50000/50000 [==============================] - 5s 101us/sample - loss: 2.3028 - acc: 0.0967 - val_loss: 2.3027 - val_acc: 0.1000\n",
            "Epoch 5/10\n",
            "50000/50000 [==============================] - 5s 99us/sample - loss: 2.3027 - acc: 0.0966 - val_loss: 2.3026 - val_acc: 0.1000\n",
            "Epoch 6/10\n",
            "50000/50000 [==============================] - 5s 100us/sample - loss: 2.3028 - acc: 0.0999 - val_loss: 2.3026 - val_acc: 0.1000\n",
            "Epoch 7/10\n",
            "50000/50000 [==============================] - 5s 101us/sample - loss: 2.3028 - acc: 0.0975 - val_loss: 2.3026 - val_acc: 0.1000\n",
            "Epoch 8/10\n",
            "50000/50000 [==============================] - 5s 101us/sample - loss: 2.3027 - acc: 0.0990 - val_loss: 2.3027 - val_acc: 0.1000\n",
            "Epoch 9/10\n",
            "50000/50000 [==============================] - 5s 99us/sample - loss: 2.3028 - acc: 0.0982 - val_loss: 2.3026 - val_acc: 0.1000\n",
            "Epoch 10/10\n",
            "50000/50000 [==============================] - 5s 99us/sample - loss: 2.3028 - acc: 0.0958 - val_loss: 2.3026 - val_acc: 0.1000\n"
          ],
          "name": "stdout"
        }
      ]
    },
    {
      "cell_type": "markdown",
      "metadata": {
        "id": "c82tdSjV8qXM",
        "colab_type": "text"
      },
      "source": [
        "#####Display the loss"
      ]
    },
    {
      "cell_type": "code",
      "metadata": {
        "id": "jr8_hJ4z83Se",
        "colab_type": "code",
        "colab": {
          "base_uri": "https://localhost:8080/",
          "height": 295
        },
        "outputId": "c3ba8946-5b79-425f-938c-068b98abc224"
      },
      "source": [
        "history_dict = history.history\n",
        "loss_values = history_dict['loss']\n",
        "test_loss_values = history_dict['val_loss']\n",
        "epochs_range = range(1, epochs+1)\n",
        "\n",
        "plt.plot(epochs_range, loss_values, 'bo', label='Training loss')\n",
        "plt.plot(epochs_range, test_loss_values, 'ro', label='Test loss')\n",
        "plt.title('Training and test loss')\n",
        "plt.xlabel('Epochs')\n",
        "plt.ylabel('Loss')\n",
        "plt.legend()\n",
        "plt.show()"
      ],
      "execution_count": 28,
      "outputs": [
        {
          "output_type": "display_data",
          "data": {
            "image/png": "[encoded data removed]",
            "text/plain": [
              "<Figure size 432x288 with 1 Axes>"
            ]
          },
          "metadata": {
            "tags": []
          }
        }
      ]
    },
    {
      "cell_type": "markdown",
      "metadata": {
        "id": "cbFAil4HxCox",
        "colab_type": "text"
      },
      "source": [
        "#####Display the accuracy"
      ]
    },
    {
      "cell_type": "code",
      "metadata": {
        "id": "Vk4CldHkxIRh",
        "colab_type": "code",
        "outputId": "6ffdcf1f-e227-4469-a792-33df354d8ff5",
        "colab": {
          "base_uri": "https://localhost:8080/",
          "height": 295
        }
      },
      "source": [
        "acc_values = history_dict['acc']\n",
        "test_acc_values = history_dict['val_acc']\n",
        "\n",
        "plt.plot(epochs_range, acc_values, 'bo', label='Training accuracy')\n",
        "plt.plot(epochs_range, test_acc_values, 'ro', label='Test accuracy')\n",
        "plt.title('Training and test accuracy')\n",
        "plt.xlabel('Epochs')\n",
        "plt.ylabel('Accuracy')\n",
        "plt.legend()\n",
        "plt.show()"
      ],
      "execution_count": 30,
      "outputs": [
        {
          "output_type": "display_data",
          "data": {
            "image/png": "[encoded data removed]",
            "text/plain": [
              "<Figure size 432x288 with 1 Axes>"
            ]
          },
          "metadata": {
            "tags": []
          }
        }
      ]
    },
    {
      "cell_type": "markdown",
      "metadata": {
        "id": "h84vsf8kWm9S",
        "colab_type": "text"
      },
      "source": [
        "###Over fitted model"
      ]
    },
    {
      "cell_type": "code",
      "metadata": {
        "id": "KcZPLCn8Wpd-",
        "colab_type": "code",
        "outputId": "8168e996-36c2-40bc-bd53-793d972f3b55",
        "colab": {
          "base_uri": "https://localhost:8080/",
          "height": 439
        }
      },
      "source": [
        "# set up the layers\n",
        "\n",
        "model = keras.Sequential([\n",
        "    keras.layers.Conv2D(32, (5, 5), activation='elu', input_shape=(32, 32, 3)),\n",
        "    keras.layers.MaxPooling2D((2, 2)),\n",
        "    #\n",
        "    keras.layers.Conv2D(64, (3, 3), activation='elu'),\n",
        "    keras.layers.MaxPooling2D((2, 2)),\n",
        "    #\n",
        "    keras.layers.Conv2D(64, (3, 3), activation='relu'),\n",
        "    #\n",
        "    keras.layers.Flatten(),\n",
        "    keras.layers.Dense(64, activation='relu'),\n",
        "    keras.layers.Dense(10, activation='softmax')\n",
        "])\n",
        "model.summary()"
      ],
      "execution_count": 10,
      "outputs": [
        {
          "output_type": "stream",
          "text": [
            "Model: \"sequential_1\"\n",
            "_________________________________________________________________\n",
            "Layer (type)                 Output Shape              Param #   \n",
            "=================================================================\n",
            "conv2d_1 (Conv2D)            (None, 28, 28, 32)        2432      \n",
            "_________________________________________________________________\n",
            "max_pooling2d_1 (MaxPooling2 (None, 14, 14, 32)        0         \n",
            "_________________________________________________________________\n",
            "conv2d_2 (Conv2D)            (None, 12, 12, 64)        18496     \n",
            "_________________________________________________________________\n",
            "max_pooling2d_2 (MaxPooling2 (None, 6, 6, 64)          0         \n",
            "_________________________________________________________________\n",
            "conv2d_3 (Conv2D)            (None, 4, 4, 64)          36928     \n",
            "_________________________________________________________________\n",
            "flatten_1 (Flatten)          (None, 1024)              0         \n",
            "_________________________________________________________________\n",
            "dense_2 (Dense)              (None, 64)                65600     \n",
            "_________________________________________________________________\n",
            "dense_3 (Dense)              (None, 10)                650       \n",
            "=================================================================\n",
            "Total params: 124,106\n",
            "Trainable params: 124,106\n",
            "Non-trainable params: 0\n",
            "_________________________________________________________________\n"
          ],
          "name": "stdout"
        }
      ]
    },
    {
      "cell_type": "code",
      "metadata": {
        "id": "sAF41KFuWxzj",
        "colab_type": "code",
        "colab": {}
      },
      "source": [
        "# compile the model\n",
        "\n",
        "model.compile(optimizer='adam',\n",
        "             loss='sparse_categorical_crossentropy',\n",
        "             metrics=['accuracy'])"
      ],
      "execution_count": 0,
      "outputs": []
    },
    {
      "cell_type": "code",
      "metadata": {
        "id": "JWYmHmhAW0vL",
        "colab_type": "code",
        "outputId": "8fd6b0c6-410a-444d-b2c4-316fbfb0f2e2",
        "colab": {
          "base_uri": "https://localhost:8080/",
          "height": 738
        }
      },
      "source": [
        "# train the model\n",
        "epochs = 20\n",
        "history = model.fit(train_images, \n",
        "                      train_labels, \n",
        "                      epochs=epochs,  \n",
        "                      validation_data=(test_images, test_labels))"
      ],
      "execution_count": 12,
      "outputs": [
        {
          "output_type": "stream",
          "text": [
            "Train on 50000 samples, validate on 10000 samples\n",
            "Epoch 1/20\n",
            "50000/50000 [==============================] - 6s 120us/sample - loss: 1.7567 - acc: 0.3879 - val_loss: 1.3640 - val_acc: 0.4980\n",
            "Epoch 2/20\n",
            "50000/50000 [==============================] - 6s 116us/sample - loss: 1.3438 - acc: 0.5156 - val_loss: 1.3827 - val_acc: 0.5065\n",
            "Epoch 3/20\n",
            "50000/50000 [==============================] - 6s 117us/sample - loss: 1.2064 - acc: 0.5691 - val_loss: 1.1789 - val_acc: 0.5806\n",
            "Epoch 4/20\n",
            "50000/50000 [==============================] - 6s 117us/sample - loss: 1.1239 - acc: 0.6002 - val_loss: 1.2150 - val_acc: 0.5745\n",
            "Epoch 5/20\n",
            "50000/50000 [==============================] - 6s 117us/sample - loss: 1.0420 - acc: 0.6338 - val_loss: 1.1651 - val_acc: 0.5932\n",
            "Epoch 6/20\n",
            "50000/50000 [==============================] - 6s 115us/sample - loss: 0.9752 - acc: 0.6564 - val_loss: 1.0837 - val_acc: 0.6279\n",
            "Epoch 7/20\n",
            "50000/50000 [==============================] - 6s 116us/sample - loss: 0.9141 - acc: 0.6761 - val_loss: 1.0462 - val_acc: 0.6384\n",
            "Epoch 8/20\n",
            "50000/50000 [==============================] - 6s 116us/sample - loss: 0.8724 - acc: 0.6936 - val_loss: 1.1341 - val_acc: 0.6133\n",
            "Epoch 9/20\n",
            "50000/50000 [==============================] - 6s 115us/sample - loss: 0.8248 - acc: 0.7117 - val_loss: 1.0828 - val_acc: 0.6434\n",
            "Epoch 10/20\n",
            "50000/50000 [==============================] - 6s 116us/sample - loss: 0.7896 - acc: 0.7244 - val_loss: 1.1362 - val_acc: 0.6328\n",
            "Epoch 11/20\n",
            "50000/50000 [==============================] - 6s 113us/sample - loss: 0.7556 - acc: 0.7351 - val_loss: 1.0827 - val_acc: 0.6486\n",
            "Epoch 12/20\n",
            "50000/50000 [==============================] - 6s 114us/sample - loss: 0.7259 - acc: 0.7452 - val_loss: 1.1259 - val_acc: 0.6431\n",
            "Epoch 13/20\n",
            "50000/50000 [==============================] - 6s 113us/sample - loss: 0.6948 - acc: 0.7570 - val_loss: 1.1686 - val_acc: 0.6354\n",
            "Epoch 14/20\n",
            "50000/50000 [==============================] - 6s 114us/sample - loss: 0.6800 - acc: 0.7644 - val_loss: 1.1511 - val_acc: 0.6323\n",
            "Epoch 15/20\n",
            "50000/50000 [==============================] - 6s 115us/sample - loss: 0.6615 - acc: 0.7692 - val_loss: 1.1450 - val_acc: 0.6411\n",
            "Epoch 16/20\n",
            "50000/50000 [==============================] - 6s 116us/sample - loss: 0.6342 - acc: 0.7786 - val_loss: 1.2174 - val_acc: 0.6288\n",
            "Epoch 17/20\n",
            "50000/50000 [==============================] - 6s 115us/sample - loss: 0.6226 - acc: 0.7829 - val_loss: 1.2036 - val_acc: 0.6455\n",
            "Epoch 18/20\n",
            "50000/50000 [==============================] - 6s 115us/sample - loss: 0.6060 - acc: 0.7895 - val_loss: 1.2305 - val_acc: 0.6367\n",
            "Epoch 19/20\n",
            "50000/50000 [==============================] - 6s 115us/sample - loss: 0.5926 - acc: 0.7932 - val_loss: 1.2228 - val_acc: 0.6508\n",
            "Epoch 20/20\n",
            "50000/50000 [==============================] - 6s 114us/sample - loss: 0.5701 - acc: 0.8010 - val_loss: 1.2873 - val_acc: 0.6381\n"
          ],
          "name": "stdout"
        }
      ]
    },
    {
      "cell_type": "markdown",
      "metadata": {
        "id": "T3I2KPry8ug9",
        "colab_type": "text"
      },
      "source": [
        "#####Display the loss"
      ]
    },
    {
      "cell_type": "code",
      "metadata": {
        "id": "m-DeITlE81PV",
        "colab_type": "code",
        "colab": {
          "base_uri": "https://localhost:8080/",
          "height": 295
        },
        "outputId": "ac9038c3-3225-4e23-e98a-93ea687627f9"
      },
      "source": [
        "history_dict = history.history\n",
        "loss_values = history_dict['loss']\n",
        "test_loss_values = history_dict['val_loss']\n",
        "epochs_range = range(1, epochs+1)\n",
        "\n",
        "plt.plot(epochs_range, loss_values, 'bo', label='Training loss')\n",
        "plt.plot(epochs_range, test_loss_values, 'ro', label='Test loss')\n",
        "plt.title('Training and test loss')\n",
        "plt.xlabel('Epochs')\n",
        "plt.ylabel('Loss')\n",
        "plt.legend()\n",
        "plt.show()"
      ],
      "execution_count": 13,
      "outputs": [
        {
          "output_type": "display_data",
          "data": {
            "image/png": "[encoded data removed]",
            "text/plain": [
              "<Figure size 432x288 with 1 Axes>"
            ]
          },
          "metadata": {
            "tags": []
          }
        }
      ]
    },
    {
      "cell_type": "markdown",
      "metadata": {
        "id": "ukejDsiNWrNw",
        "colab_type": "text"
      },
      "source": [
        "####Display the accuracy"
      ]
    },
    {
      "cell_type": "code",
      "metadata": {
        "id": "5OfKBZN6Wtvh",
        "colab_type": "code",
        "outputId": "8c090adc-389a-47ee-e237-dda38fe2f3d4",
        "colab": {
          "base_uri": "https://localhost:8080/",
          "height": 295
        }
      },
      "source": [
        "acc_values = history_dict['acc']\n",
        "test_acc_values = history_dict['val_acc']\n",
        "\n",
        "plt.plot(epochs_range, acc_values, 'bo', label='Training accuracy')\n",
        "plt.plot(epochs_range, test_acc_values, 'ro', label='Test accuracy')\n",
        "plt.title('Training and test accuracy')\n",
        "plt.xlabel('Epochs')\n",
        "plt.ylabel('Accuracy')\n",
        "plt.legend()\n",
        "plt.show()"
      ],
      "execution_count": 14,
      "outputs": [
        {
          "output_type": "display_data",
          "data": {
            "image/png": "[encoded data removed]",
            "text/plain": [
              "<Figure size 432x288 with 1 Axes>"
            ]
          },
          "metadata": {
            "tags": []
          }
        }
      ]
    },
    {
      "cell_type": "markdown",
      "metadata": {
        "id": "WvdV3C-yjCWF",
        "colab_type": "text"
      },
      "source": [
        "####Well fitted model"
      ]
    },
    {
      "cell_type": "code",
      "metadata": {
        "id": "U6XOTp9CjFcW",
        "colab_type": "code",
        "outputId": "68d7e0f0-4d1b-408d-ed34-c071ceda5aa7",
        "colab": {
          "base_uri": "https://localhost:8080/",
          "height": 826
        }
      },
      "source": [
        "# set up the layers\n",
        "\n",
        "model = keras.Sequential([\n",
        "    keras.layers.Conv2D(32, (3, 3), activation='relu', input_shape=(32, 32, 3)),\n",
        "    keras.layers.BatchNormalization(),\n",
        "    keras.layers.Conv2D(32, (3, 3), activation='relu', input_shape=(32, 32, 3)),\n",
        "    keras.layers.BatchNormalization(),\n",
        "    keras.layers.MaxPooling2D((2, 2)),\n",
        "    keras.layers.Dropout(0.2),\n",
        "    #\n",
        "    keras.layers.Conv2D(64, (3, 3), activation='relu'),\n",
        "    keras.layers.BatchNormalization(),\n",
        "    keras.layers.Conv2D(64, (3, 3), activation='relu'),\n",
        "    keras.layers.BatchNormalization(),\n",
        "    keras.layers.MaxPooling2D((2, 2)),\n",
        "    keras.layers.Dropout(0.3),\n",
        "    #\n",
        "    keras.layers.Conv2D(128, (3, 3), activation='relu'),\n",
        "    keras.layers.BatchNormalization(),\n",
        "    keras.layers.MaxPooling2D((2, 2)),\n",
        "    keras.layers.Dropout(0.3),\n",
        "    #\n",
        "    keras.layers.Flatten(),\n",
        "    keras.layers.Dense(64, activation='relu'),\n",
        "    keras.layers.Dense(10, activation='softmax')\n",
        "])\n",
        "model.summary()"
      ],
      "execution_count": 20,
      "outputs": [
        {
          "output_type": "stream",
          "text": [
            "Model: \"sequential_3\"\n",
            "_________________________________________________________________\n",
            "Layer (type)                 Output Shape              Param #   \n",
            "=================================================================\n",
            "conv2d_9 (Conv2D)            (None, 30, 30, 32)        896       \n",
            "_________________________________________________________________\n",
            "batch_normalization_5 (Batch (None, 30, 30, 32)        128       \n",
            "_________________________________________________________________\n",
            "conv2d_10 (Conv2D)           (None, 28, 28, 32)        9248      \n",
            "_________________________________________________________________\n",
            "batch_normalization_6 (Batch (None, 28, 28, 32)        128       \n",
            "_________________________________________________________________\n",
            "max_pooling2d_6 (MaxPooling2 (None, 14, 14, 32)        0         \n",
            "_________________________________________________________________\n",
            "dropout_3 (Dropout)          (None, 14, 14, 32)        0         \n",
            "_________________________________________________________________\n",
            "conv2d_11 (Conv2D)           (None, 12, 12, 64)        18496     \n",
            "_________________________________________________________________\n",
            "batch_normalization_7 (Batch (None, 12, 12, 64)        256       \n",
            "_________________________________________________________________\n",
            "conv2d_12 (Conv2D)           (None, 10, 10, 64)        36928     \n",
            "_________________________________________________________________\n",
            "batch_normalization_8 (Batch (None, 10, 10, 64)        256       \n",
            "_________________________________________________________________\n",
            "max_pooling2d_7 (MaxPooling2 (None, 5, 5, 64)          0         \n",
            "_________________________________________________________________\n",
            "dropout_4 (Dropout)          (None, 5, 5, 64)          0         \n",
            "_________________________________________________________________\n",
            "conv2d_13 (Conv2D)           (None, 3, 3, 128)         73856     \n",
            "_________________________________________________________________\n",
            "batch_normalization_9 (Batch (None, 3, 3, 128)         512       \n",
            "_________________________________________________________________\n",
            "max_pooling2d_8 (MaxPooling2 (None, 1, 1, 128)         0         \n",
            "_________________________________________________________________\n",
            "dropout_5 (Dropout)          (None, 1, 1, 128)         0         \n",
            "_________________________________________________________________\n",
            "flatten_3 (Flatten)          (None, 128)               0         \n",
            "_________________________________________________________________\n",
            "dense_6 (Dense)              (None, 64)                8256      \n",
            "_________________________________________________________________\n",
            "dense_7 (Dense)              (None, 10)                650       \n",
            "=================================================================\n",
            "Total params: 149,610\n",
            "Trainable params: 148,970\n",
            "Non-trainable params: 640\n",
            "_________________________________________________________________\n"
          ],
          "name": "stdout"
        }
      ]
    },
    {
      "cell_type": "code",
      "metadata": {
        "id": "GkzJUhR4jLHx",
        "colab_type": "code",
        "colab": {}
      },
      "source": [
        "# compile the model\n",
        "\n",
        "model.compile(optimizer='adam',\n",
        "             loss='sparse_categorical_crossentropy',\n",
        "             metrics=['accuracy'])"
      ],
      "execution_count": 0,
      "outputs": []
    },
    {
      "cell_type": "code",
      "metadata": {
        "id": "6e6DFtoSjQbZ",
        "colab_type": "code",
        "outputId": "2f81e983-b6e3-487e-b4f0-66e642fd21dd",
        "colab": {
          "base_uri": "https://localhost:8080/",
          "height": 738
        }
      },
      "source": [
        "# train the model\n",
        "epochs = 20\n",
        "history = model.fit(train_images, \n",
        "                      train_labels, \n",
        "                      epochs=epochs,  \n",
        "                      validation_data=(test_images, test_labels))"
      ],
      "execution_count": 22,
      "outputs": [
        {
          "output_type": "stream",
          "text": [
            "Train on 50000 samples, validate on 10000 samples\n",
            "Epoch 1/20\n",
            "50000/50000 [==============================] - 11s 218us/sample - loss: 1.6220 - acc: 0.4152 - val_loss: 1.2921 - val_acc: 0.5338\n",
            "Epoch 2/20\n",
            "50000/50000 [==============================] - 10s 208us/sample - loss: 1.2263 - acc: 0.5650 - val_loss: 1.2023 - val_acc: 0.5742\n",
            "Epoch 3/20\n",
            "50000/50000 [==============================] - 10s 209us/sample - loss: 1.0792 - acc: 0.6192 - val_loss: 1.1165 - val_acc: 0.6173\n",
            "Epoch 4/20\n",
            "50000/50000 [==============================] - 10s 204us/sample - loss: 0.9822 - acc: 0.6547 - val_loss: 0.9148 - val_acc: 0.6788\n",
            "Epoch 5/20\n",
            "50000/50000 [==============================] - 10s 205us/sample - loss: 0.9179 - acc: 0.6771 - val_loss: 0.8911 - val_acc: 0.6826\n",
            "Epoch 6/20\n",
            "50000/50000 [==============================] - 10s 206us/sample - loss: 0.8581 - acc: 0.7005 - val_loss: 0.8105 - val_acc: 0.7207\n",
            "Epoch 7/20\n",
            "50000/50000 [==============================] - 10s 204us/sample - loss: 0.8233 - acc: 0.7122 - val_loss: 0.8262 - val_acc: 0.7151\n",
            "Epoch 8/20\n",
            "50000/50000 [==============================] - 10s 205us/sample - loss: 0.7911 - acc: 0.7246 - val_loss: 0.8804 - val_acc: 0.6930\n",
            "Epoch 9/20\n",
            "50000/50000 [==============================] - 10s 204us/sample - loss: 0.7649 - acc: 0.7341 - val_loss: 0.7896 - val_acc: 0.7282\n",
            "Epoch 10/20\n",
            "50000/50000 [==============================] - 10s 202us/sample - loss: 0.7399 - acc: 0.7413 - val_loss: 0.7857 - val_acc: 0.7262\n",
            "Epoch 11/20\n",
            "50000/50000 [==============================] - 10s 202us/sample - loss: 0.7233 - acc: 0.7488 - val_loss: 0.7315 - val_acc: 0.7470\n",
            "Epoch 12/20\n",
            "50000/50000 [==============================] - 10s 203us/sample - loss: 0.7043 - acc: 0.7554 - val_loss: 0.7173 - val_acc: 0.7545\n",
            "Epoch 13/20\n",
            "50000/50000 [==============================] - 10s 200us/sample - loss: 0.6828 - acc: 0.7650 - val_loss: 0.7223 - val_acc: 0.7534\n",
            "Epoch 14/20\n",
            "50000/50000 [==============================] - 10s 202us/sample - loss: 0.6709 - acc: 0.7668 - val_loss: 0.7313 - val_acc: 0.7486\n",
            "Epoch 15/20\n",
            "50000/50000 [==============================] - 10s 203us/sample - loss: 0.6540 - acc: 0.7740 - val_loss: 0.7224 - val_acc: 0.7523\n",
            "Epoch 16/20\n",
            "50000/50000 [==============================] - 10s 200us/sample - loss: 0.6447 - acc: 0.7762 - val_loss: 0.7047 - val_acc: 0.7576\n",
            "Epoch 17/20\n",
            "50000/50000 [==============================] - 10s 200us/sample - loss: 0.6349 - acc: 0.7788 - val_loss: 0.7129 - val_acc: 0.7596\n",
            "Epoch 18/20\n",
            "50000/50000 [==============================] - 10s 200us/sample - loss: 0.6277 - acc: 0.7823 - val_loss: 0.7376 - val_acc: 0.7465\n",
            "Epoch 19/20\n",
            "50000/50000 [==============================] - 10s 197us/sample - loss: 0.6196 - acc: 0.7836 - val_loss: 0.6391 - val_acc: 0.7830\n",
            "Epoch 20/20\n",
            "50000/50000 [==============================] - 10s 196us/sample - loss: 0.6084 - acc: 0.7888 - val_loss: 0.6807 - val_acc: 0.7639\n"
          ],
          "name": "stdout"
        }
      ]
    },
    {
      "cell_type": "markdown",
      "metadata": {
        "id": "FDseT32h8yep",
        "colab_type": "text"
      },
      "source": [
        "#####Display the loss"
      ]
    },
    {
      "cell_type": "code",
      "metadata": {
        "id": "MMpS_S6M8zv4",
        "colab_type": "code",
        "colab": {
          "base_uri": "https://localhost:8080/",
          "height": 295
        },
        "outputId": "bf38f608-4af1-40bf-b51e-ab1787c073e7"
      },
      "source": [
        "history_dict = history.history\n",
        "loss_values = history_dict['loss']\n",
        "test_loss_values = history_dict['val_loss']\n",
        "epochs_range = range(1, epochs+1)\n",
        "\n",
        "plt.plot(epochs_range, loss_values, 'bo', label='Training loss')\n",
        "plt.plot(epochs_range, test_loss_values, 'ro', label='Test loss')\n",
        "plt.title('Training and test loss')\n",
        "plt.xlabel('Epochs')\n",
        "plt.ylabel('Loss')\n",
        "plt.legend()\n",
        "plt.show()"
      ],
      "execution_count": 23,
      "outputs": [
        {
          "output_type": "display_data",
          "data": {
            "image/png": "[encoded data removed]",
            "text/plain": [
              "<Figure size 432x288 with 1 Axes>"
            ]
          },
          "metadata": {
            "tags": []
          }
        }
      ]
    },
    {
      "cell_type": "markdown",
      "metadata": {
        "id": "pzXiO_iekLDW",
        "colab_type": "text"
      },
      "source": [
        "#####Display the accuracy"
      ]
    },
    {
      "cell_type": "code",
      "metadata": {
        "id": "JbPdQpVukRZr",
        "colab_type": "code",
        "outputId": "f0efdd27-1de3-4346-b430-acc87898b5c5",
        "colab": {
          "base_uri": "https://localhost:8080/",
          "height": 295
        }
      },
      "source": [
        "acc_values = history_dict['acc']\n",
        "test_acc_values = history_dict['val_acc']\n",
        "\n",
        "plt.plot(epochs_range, acc_values, 'bo', label='Training accuracy')\n",
        "plt.plot(epochs_range, test_acc_values, 'ro', label='Test accuracy')\n",
        "plt.title('Training and test accuracy')\n",
        "plt.xlabel('Epochs')\n",
        "plt.ylabel('Accuracy')\n",
        "plt.legend()\n",
        "plt.show()"
      ],
      "execution_count": 24,
      "outputs": [
        {
          "output_type": "display_data",
          "data": {
            "image/png": "[encoded data removed]",
            "text/plain": [
              "<Figure size 432x288 with 1 Axes>"
            ]
          },
          "metadata": {
            "tags": []
          }
        }
      ]
    }
  ]
}